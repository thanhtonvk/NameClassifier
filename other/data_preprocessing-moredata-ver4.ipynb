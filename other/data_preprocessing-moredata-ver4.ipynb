{
 "cells": [
  {
   "cell_type": "code",
   "execution_count": 93,
   "id": "bab149c0-4abc-4752-b41e-c4729deaa0f5",
   "metadata": {},
   "outputs": [],
   "source": [
    "import json\n",
    "import pandas as pd\n",
    "import numpy as np\n",
    "from unidecode import unidecode\n",
    "from sklearn.model_selection import train_test_split\n",
    "import seaborn as sns"
   ]
  },
  {
   "cell_type": "code",
   "execution_count": 94,
   "id": "435e8f19-7008-4e51-b9d4-1fe3b9a0c1af",
   "metadata": {},
   "outputs": [
    {
     "data": {
      "text/plain": [
       "8757"
      ]
     },
     "execution_count": 94,
     "metadata": {},
     "output_type": "execute_result"
    }
   ],
   "source": [
    "f = open(\"data/uit_member.json\")\n",
    "data = json.load(f)\n",
    "len(data)"
   ]
  },
  {
   "cell_type": "code",
   "execution_count": 95,
   "id": "b5f3377a-49b8-4d56-8015-bb1c6faea9e5",
   "metadata": {},
   "outputs": [
    {
     "name": "stdout",
     "output_type": "stream",
     "text": [
      "Done\n",
      "['nguyen thi nhu', 'le hoang', 'dinh van', 'nguyen echam', 'nguyen xuan']\n",
      "['quynh', 'quan', 'phuong', 'samuel', 'sang']\n",
      "['nguyen thi nhu quynh', 'le hoang quan', 'dinh van phuong', 'nguyen echam samuel', 'nguyen xuan sang']\n"
     ]
    }
   ],
   "source": [
    "first_name =[]\n",
    "last_name =[]\n",
    "full_name =[]\n",
    "label = []\n",
    "for i in data:\n",
    "    last_name.append(unidecode(i[\"last_name\"]).lower())\n",
    "    first_name.append(unidecode(i[\"first_name\"]).lower())\n",
    "    full_name.append(unidecode(i[\"full_name\"]).lower())\n",
    "    label.append(1)\n",
    "print(\"Done\")\n",
    "print(last_name[0:5])\n",
    "print(first_name[0:5])\n",
    "print(full_name[0:5])"
   ]
  },
  {
   "cell_type": "code",
   "execution_count": 96,
   "id": "4741a4f9",
   "metadata": {},
   "outputs": [],
   "source": [
    "dfhodantoc = pd.read_excel('./ho_dantoc.xlsx',header=None)\n",
    "dfhodantoc = np.asarray(dfhodantoc)"
   ]
  },
  {
   "cell_type": "code",
   "execution_count": 97,
   "id": "d466d61d",
   "metadata": {},
   "outputs": [],
   "source": [
    "first_name_dan_toc = []"
   ]
  },
  {
   "cell_type": "code",
   "execution_count": 98,
   "id": "f7f79880",
   "metadata": {},
   "outputs": [],
   "source": [
    "for ho in dfhodantoc:\n",
    "    for mid in last_name:\n",
    "        first_name_dan_toc.append(unidecode(ho[0]+' '+mid.split(' ')[-1]))"
   ]
  },
  {
   "cell_type": "code",
   "execution_count": 99,
   "id": "f446278f",
   "metadata": {},
   "outputs": [
    {
     "data": {
      "text/plain": [
       "'Li manh'"
      ]
     },
     "execution_count": 99,
     "metadata": {},
     "output_type": "execute_result"
    }
   ],
   "source": [
    "first_name_dan_toc[-1]"
   ]
  },
  {
   "cell_type": "code",
   "execution_count": 100,
   "id": "e4b65ea8",
   "metadata": {},
   "outputs": [],
   "source": [
    "for hodantoc in first_name_dan_toc:\n",
    "    last_name.append(hodantoc)"
   ]
  },
  {
   "cell_type": "code",
   "execution_count": 101,
   "id": "2ef1e11d-d9dd-4a85-9c96-f1adc88fefa5",
   "metadata": {},
   "outputs": [
    {
     "name": "stdout",
     "output_type": "stream",
     "text": [
      "Done\n",
      "['nguyen thi nhu quynh', 'nguyen thi nhu quan', 'nguyen thi nhu phuong', 'nguyen thi nhu samuel', 'nguyen thi nhu sang']\n",
      "10000\n"
     ]
    }
   ],
   "source": [
    "sample_number = 100\n",
    "full_name_aug = []\n",
    "label_aug = []\n",
    "for i in last_name[0:sample_number]:\n",
    "    for j in first_name[0:sample_number]:\n",
    "        full_name_aug.append(i+\" \"+j)\n",
    "        label_aug.append(1)\n",
    "print(\"Done\")\n",
    "print(full_name_aug[0:5])\n",
    "print(len(full_name_aug))"
   ]
  },
  {
   "cell_type": "code",
   "execution_count": 102,
   "id": "4b3aae76-5232-4d7c-9ed3-f41d2c959b4c",
   "metadata": {},
   "outputs": [
    {
     "data": {
      "text/html": [
       "<div>\n",
       "<style scoped>\n",
       "    .dataframe tbody tr th:only-of-type {\n",
       "        vertical-align: middle;\n",
       "    }\n",
       "\n",
       "    .dataframe tbody tr th {\n",
       "        vertical-align: top;\n",
       "    }\n",
       "\n",
       "    .dataframe thead th {\n",
       "        text-align: right;\n",
       "    }\n",
       "</style>\n",
       "<table border=\"1\" class=\"dataframe\">\n",
       "  <thead>\n",
       "    <tr style=\"text-align: right;\">\n",
       "      <th></th>\n",
       "      <th>name</th>\n",
       "      <th>label</th>\n",
       "    </tr>\n",
       "  </thead>\n",
       "  <tbody>\n",
       "    <tr>\n",
       "      <th>0</th>\n",
       "      <td>nguyen thi nhu quynh</td>\n",
       "      <td>1</td>\n",
       "    </tr>\n",
       "    <tr>\n",
       "      <th>1</th>\n",
       "      <td>nguyen thi nhu quan</td>\n",
       "      <td>1</td>\n",
       "    </tr>\n",
       "    <tr>\n",
       "      <th>2</th>\n",
       "      <td>nguyen thi nhu phuong</td>\n",
       "      <td>1</td>\n",
       "    </tr>\n",
       "    <tr>\n",
       "      <th>3</th>\n",
       "      <td>nguyen thi nhu samuel</td>\n",
       "      <td>1</td>\n",
       "    </tr>\n",
       "    <tr>\n",
       "      <th>4</th>\n",
       "      <td>nguyen thi nhu sang</td>\n",
       "      <td>1</td>\n",
       "    </tr>\n",
       "  </tbody>\n",
       "</table>\n",
       "</div>"
      ],
      "text/plain": [
       "                    name label\n",
       "0   nguyen thi nhu quynh     1\n",
       "1    nguyen thi nhu quan     1\n",
       "2  nguyen thi nhu phuong     1\n",
       "3  nguyen thi nhu samuel     1\n",
       "4    nguyen thi nhu sang     1"
      ]
     },
     "execution_count": 102,
     "metadata": {},
     "output_type": "execute_result"
    }
   ],
   "source": [
    "df_aug =  pd.DataFrame([full_name_aug, label_aug])\n",
    "df_aug = df_aug.transpose()\n",
    "df_aug.columns = [\"name\", \"label\"]\n",
    "df_aug.head()"
   ]
  },
  {
   "cell_type": "code",
   "execution_count": 103,
   "id": "4c03a115-503b-4188-8431-5e18331a2abd",
   "metadata": {},
   "outputs": [
    {
     "data": {
      "text/html": [
       "<div>\n",
       "<style scoped>\n",
       "    .dataframe tbody tr th:only-of-type {\n",
       "        vertical-align: middle;\n",
       "    }\n",
       "\n",
       "    .dataframe tbody tr th {\n",
       "        vertical-align: top;\n",
       "    }\n",
       "\n",
       "    .dataframe thead th {\n",
       "        text-align: right;\n",
       "    }\n",
       "</style>\n",
       "<table border=\"1\" class=\"dataframe\">\n",
       "  <thead>\n",
       "    <tr style=\"text-align: right;\">\n",
       "      <th></th>\n",
       "      <th>name</th>\n",
       "      <th>label</th>\n",
       "    </tr>\n",
       "  </thead>\n",
       "  <tbody>\n",
       "    <tr>\n",
       "      <th>0</th>\n",
       "      <td>nguyen thi nhu quynh</td>\n",
       "      <td>1</td>\n",
       "    </tr>\n",
       "    <tr>\n",
       "      <th>1</th>\n",
       "      <td>le hoang quan</td>\n",
       "      <td>1</td>\n",
       "    </tr>\n",
       "    <tr>\n",
       "      <th>2</th>\n",
       "      <td>dinh van phuong</td>\n",
       "      <td>1</td>\n",
       "    </tr>\n",
       "    <tr>\n",
       "      <th>3</th>\n",
       "      <td>nguyen echam samuel</td>\n",
       "      <td>1</td>\n",
       "    </tr>\n",
       "    <tr>\n",
       "      <th>4</th>\n",
       "      <td>nguyen xuan sang</td>\n",
       "      <td>1</td>\n",
       "    </tr>\n",
       "  </tbody>\n",
       "</table>\n",
       "</div>"
      ],
      "text/plain": [
       "                   name label\n",
       "0  nguyen thi nhu quynh     1\n",
       "1         le hoang quan     1\n",
       "2       dinh van phuong     1\n",
       "3   nguyen echam samuel     1\n",
       "4      nguyen xuan sang     1"
      ]
     },
     "execution_count": 103,
     "metadata": {},
     "output_type": "execute_result"
    }
   ],
   "source": [
    "# Convert to dataframe and labeling\n",
    "df1 = pd.DataFrame([full_name, label])\n",
    "df1 = df1.transpose()\n",
    "df1.columns = [\"name\", \"label\"]\n",
    "df1.head()"
   ]
  },
  {
   "cell_type": "code",
   "execution_count": 104,
   "id": "5cf26dcf-f9ff-4f55-8927-7b0a40a7da6a",
   "metadata": {},
   "outputs": [
    {
     "data": {
      "text/html": [
       "<div>\n",
       "<style scoped>\n",
       "    .dataframe tbody tr th:only-of-type {\n",
       "        vertical-align: middle;\n",
       "    }\n",
       "\n",
       "    .dataframe tbody tr th {\n",
       "        vertical-align: top;\n",
       "    }\n",
       "\n",
       "    .dataframe thead th {\n",
       "        text-align: right;\n",
       "    }\n",
       "</style>\n",
       "<table border=\"1\" class=\"dataframe\">\n",
       "  <thead>\n",
       "    <tr style=\"text-align: right;\">\n",
       "      <th></th>\n",
       "      <th>name</th>\n",
       "      <th>label</th>\n",
       "    </tr>\n",
       "  </thead>\n",
       "  <tbody>\n",
       "    <tr>\n",
       "      <th>0</th>\n",
       "      <td>CHI NHáNH CôNG TY TNHH TậP ĐOàN ĐầU Tư HOA SEN...</td>\n",
       "      <td>0.0</td>\n",
       "    </tr>\n",
       "    <tr>\n",
       "      <th>1</th>\n",
       "      <td>Chi Nhánh Công Ty Cổ Phần Thương Mại Dịch Vụ K...</td>\n",
       "      <td>0.0</td>\n",
       "    </tr>\n",
       "    <tr>\n",
       "      <th>2</th>\n",
       "      <td>Công ty Cổ phần Công nghệ Y Sinh học và Thực p...</td>\n",
       "      <td>0.0</td>\n",
       "    </tr>\n",
       "    <tr>\n",
       "      <th>3</th>\n",
       "      <td>Hợp tác xã cơ khí Phương Nam</td>\n",
       "      <td>0.0</td>\n",
       "    </tr>\n",
       "    <tr>\n",
       "      <th>4</th>\n",
       "      <td>HTX khai thác cá biển bắc hải</td>\n",
       "      <td>0.0</td>\n",
       "    </tr>\n",
       "  </tbody>\n",
       "</table>\n",
       "</div>"
      ],
      "text/plain": [
       "                                                name  label\n",
       "0  CHI NHáNH CôNG TY TNHH TậP ĐOàN ĐầU Tư HOA SEN...    0.0\n",
       "1  Chi Nhánh Công Ty Cổ Phần Thương Mại Dịch Vụ K...    0.0\n",
       "2  Công ty Cổ phần Công nghệ Y Sinh học và Thực p...    0.0\n",
       "3                       Hợp tác xã cơ khí Phương Nam    0.0\n",
       "4                      HTX khai thác cá biển bắc hải    0.0"
      ]
     },
     "execution_count": 104,
     "metadata": {},
     "output_type": "execute_result"
    }
   ],
   "source": [
    "df2 = pd.read_excel(\"data/vip.xlsx\")\n",
    "df2.head()"
   ]
  },
  {
   "cell_type": "code",
   "execution_count": 105,
   "id": "783c55d1-9278-4a2d-998e-cf51c1de14b9",
   "metadata": {},
   "outputs": [
    {
     "name": "stdout",
     "output_type": "stream",
     "text": [
      "Done\n",
      "['chi nhanh cong ty tnhh tap doan dau tu hoa sen tai son dong', 'chi nhanh cong ty co phan thuong mai dich vu ket noi viet', 'cong ty co phan cong nghe y sinh hoc va thuc pham dinh duong viet nam', 'hop tac xa co khi phuong nam', 'htx khai thac ca bien bac hai']\n"
     ]
    }
   ],
   "source": [
    "full_name2 =[]\n",
    "label2 = []\n",
    "for i in df2[\"name\"]:\n",
    "    full_name2.append(unidecode(i).lower())\n",
    "    label2.append(0)\n",
    "print(\"Done\")\n",
    "print(full_name2[0:5])"
   ]
  },
  {
   "cell_type": "code",
   "execution_count": 106,
   "id": "270408e1-1083-4fef-a38f-b572a1f4d462",
   "metadata": {},
   "outputs": [
    {
     "data": {
      "text/html": [
       "<div>\n",
       "<style scoped>\n",
       "    .dataframe tbody tr th:only-of-type {\n",
       "        vertical-align: middle;\n",
       "    }\n",
       "\n",
       "    .dataframe tbody tr th {\n",
       "        vertical-align: top;\n",
       "    }\n",
       "\n",
       "    .dataframe thead th {\n",
       "        text-align: right;\n",
       "    }\n",
       "</style>\n",
       "<table border=\"1\" class=\"dataframe\">\n",
       "  <thead>\n",
       "    <tr style=\"text-align: right;\">\n",
       "      <th></th>\n",
       "      <th>name</th>\n",
       "      <th>label</th>\n",
       "    </tr>\n",
       "  </thead>\n",
       "  <tbody>\n",
       "    <tr>\n",
       "      <th>0</th>\n",
       "      <td>chi nhanh cong ty tnhh tap doan dau tu hoa sen...</td>\n",
       "      <td>0</td>\n",
       "    </tr>\n",
       "    <tr>\n",
       "      <th>1</th>\n",
       "      <td>chi nhanh cong ty co phan thuong mai dich vu k...</td>\n",
       "      <td>0</td>\n",
       "    </tr>\n",
       "    <tr>\n",
       "      <th>2</th>\n",
       "      <td>cong ty co phan cong nghe y sinh hoc va thuc p...</td>\n",
       "      <td>0</td>\n",
       "    </tr>\n",
       "    <tr>\n",
       "      <th>3</th>\n",
       "      <td>hop tac xa co khi phuong nam</td>\n",
       "      <td>0</td>\n",
       "    </tr>\n",
       "    <tr>\n",
       "      <th>4</th>\n",
       "      <td>htx khai thac ca bien bac hai</td>\n",
       "      <td>0</td>\n",
       "    </tr>\n",
       "  </tbody>\n",
       "</table>\n",
       "</div>"
      ],
      "text/plain": [
       "                                                name label\n",
       "0  chi nhanh cong ty tnhh tap doan dau tu hoa sen...     0\n",
       "1  chi nhanh cong ty co phan thuong mai dich vu k...     0\n",
       "2  cong ty co phan cong nghe y sinh hoc va thuc p...     0\n",
       "3                       hop tac xa co khi phuong nam     0\n",
       "4                      htx khai thac ca bien bac hai     0"
      ]
     },
     "execution_count": 106,
     "metadata": {},
     "output_type": "execute_result"
    }
   ],
   "source": [
    "# Convert to dataframe and labeling\n",
    "df2 = pd.DataFrame([full_name2, label2])\n",
    "df2 = df2.transpose()\n",
    "df2.columns = [\"name\", \"label\"]\n",
    "df2.head()"
   ]
  },
  {
   "cell_type": "code",
   "execution_count": 107,
   "id": "d43bba5d-f7a3-4b50-a5c4-6eac8c756478",
   "metadata": {},
   "outputs": [
    {
     "data": {
      "text/html": [
       "<div>\n",
       "<style scoped>\n",
       "    .dataframe tbody tr th:only-of-type {\n",
       "        vertical-align: middle;\n",
       "    }\n",
       "\n",
       "    .dataframe tbody tr th {\n",
       "        vertical-align: top;\n",
       "    }\n",
       "\n",
       "    .dataframe thead th {\n",
       "        text-align: right;\n",
       "    }\n",
       "</style>\n",
       "<table border=\"1\" class=\"dataframe\">\n",
       "  <thead>\n",
       "    <tr style=\"text-align: right;\">\n",
       "      <th></th>\n",
       "      <th>name</th>\n",
       "      <th>label</th>\n",
       "    </tr>\n",
       "  </thead>\n",
       "  <tbody>\n",
       "    <tr>\n",
       "      <th>0</th>\n",
       "      <td>VPĐD Teledata Informatics Limited</td>\n",
       "      <td>0.0</td>\n",
       "    </tr>\n",
       "    <tr>\n",
       "      <th>1</th>\n",
       "      <td>Hợp tác xã: dịch vụ điện năng xã Hạ Bì</td>\n",
       "      <td>0.0</td>\n",
       "    </tr>\n",
       "    <tr>\n",
       "      <th>2</th>\n",
       "      <td>Phong kham da khoa Trường Thọ</td>\n",
       "      <td>0.0</td>\n",
       "    </tr>\n",
       "    <tr>\n",
       "      <th>3</th>\n",
       "      <td>Phong kham da khoa An Phước</td>\n",
       "      <td>0.0</td>\n",
       "    </tr>\n",
       "    <tr>\n",
       "      <th>4</th>\n",
       "      <td>Cty TNHH Một Thành Viên Nam Việt Vĩnh Kim</td>\n",
       "      <td>0.0</td>\n",
       "    </tr>\n",
       "  </tbody>\n",
       "</table>\n",
       "</div>"
      ],
      "text/plain": [
       "                                        name  label\n",
       "0          VPĐD Teledata Informatics Limited    0.0\n",
       "1     Hợp tác xã: dịch vụ điện năng xã Hạ Bì    0.0\n",
       "2              Phong kham da khoa Trường Thọ    0.0\n",
       "3                Phong kham da khoa An Phước    0.0\n",
       "4  Cty TNHH Một Thành Viên Nam Việt Vĩnh Kim    0.0"
      ]
     },
     "execution_count": 107,
     "metadata": {},
     "output_type": "execute_result"
    }
   ],
   "source": [
    "df3 = pd.read_excel(\"data/vip2.xlsx\")\n",
    "df3.head()"
   ]
  },
  {
   "cell_type": "code",
   "execution_count": 108,
   "id": "421c37a6-e5ca-4d65-8713-7d52cc5c2ae3",
   "metadata": {},
   "outputs": [
    {
     "name": "stdout",
     "output_type": "stream",
     "text": [
      "Done\n",
      "['vpdd teledata informatics limited', 'hop tac xa: dich vu dien nang xa ha bi', 'phong kham da khoa truong tho', 'phong kham da khoa an phuoc', 'cty tnhh mot thanh vien nam viet vinh kim']\n"
     ]
    }
   ],
   "source": [
    "full_name3 =[]\n",
    "label3 = []\n",
    "for i in df3[\"name\"]:\n",
    "    full_name3.append(unidecode(i).lower())\n",
    "    label3.append(0)\n",
    "print(\"Done\")\n",
    "print(full_name3[0:5])"
   ]
  },
  {
   "cell_type": "code",
   "execution_count": 109,
   "id": "797c5cef-1d64-4df1-b0d7-639bc170bb30",
   "metadata": {},
   "outputs": [
    {
     "data": {
      "text/html": [
       "<div>\n",
       "<style scoped>\n",
       "    .dataframe tbody tr th:only-of-type {\n",
       "        vertical-align: middle;\n",
       "    }\n",
       "\n",
       "    .dataframe tbody tr th {\n",
       "        vertical-align: top;\n",
       "    }\n",
       "\n",
       "    .dataframe thead th {\n",
       "        text-align: right;\n",
       "    }\n",
       "</style>\n",
       "<table border=\"1\" class=\"dataframe\">\n",
       "  <thead>\n",
       "    <tr style=\"text-align: right;\">\n",
       "      <th></th>\n",
       "      <th>name</th>\n",
       "      <th>label</th>\n",
       "    </tr>\n",
       "  </thead>\n",
       "  <tbody>\n",
       "    <tr>\n",
       "      <th>0</th>\n",
       "      <td>vpdd teledata informatics limited</td>\n",
       "      <td>0</td>\n",
       "    </tr>\n",
       "    <tr>\n",
       "      <th>1</th>\n",
       "      <td>hop tac xa: dich vu dien nang xa ha bi</td>\n",
       "      <td>0</td>\n",
       "    </tr>\n",
       "    <tr>\n",
       "      <th>2</th>\n",
       "      <td>phong kham da khoa truong tho</td>\n",
       "      <td>0</td>\n",
       "    </tr>\n",
       "    <tr>\n",
       "      <th>3</th>\n",
       "      <td>phong kham da khoa an phuoc</td>\n",
       "      <td>0</td>\n",
       "    </tr>\n",
       "    <tr>\n",
       "      <th>4</th>\n",
       "      <td>cty tnhh mot thanh vien nam viet vinh kim</td>\n",
       "      <td>0</td>\n",
       "    </tr>\n",
       "  </tbody>\n",
       "</table>\n",
       "</div>"
      ],
      "text/plain": [
       "                                        name label\n",
       "0          vpdd teledata informatics limited     0\n",
       "1     hop tac xa: dich vu dien nang xa ha bi     0\n",
       "2              phong kham da khoa truong tho     0\n",
       "3                phong kham da khoa an phuoc     0\n",
       "4  cty tnhh mot thanh vien nam viet vinh kim     0"
      ]
     },
     "execution_count": 109,
     "metadata": {},
     "output_type": "execute_result"
    }
   ],
   "source": [
    "# Convert to dataframe and labeling\n",
    "df3 = pd.DataFrame([full_name3, label3])\n",
    "df3 = df3.transpose()\n",
    "df3.columns = [\"name\", \"label\"]\n",
    "df3.head()"
   ]
  },
  {
   "cell_type": "code",
   "execution_count": 110,
   "id": "9183f5c7-106a-475a-8e7d-080a086d992d",
   "metadata": {},
   "outputs": [],
   "source": [
    "# sinh dữ liệu\n",
    "tien_to = [\"ch \", \"cn \", \"cb \", \"dgd \", \"dgd \",\"dt \", \"dl \", \"dtb \", \"pk \", \"dccdvvtld \", \"cafe\",\n",
    "           \"ch\", \"cn\",\"cb\", \"dgd\", \"dgd\",\"dt\", \"dl\", \"dtb\", \"pk\", \"dccdvvtld\",\n",
    "           \"ho kinh doanh \", \"cua hang \", \"noi that \", \"dien thoai \",\n",
    "           \"phong kham \", \"phong kham da khoa \", \"hoi dong huong \",\"nha khoa \", \"quan ruou \",\"tap hoa \"\n",
    "           \"truong \", \"truong dai hoc \", \"co so \", \"co so thu mua\",\"ho kinh \", \"quay thuoc \",\"group\", \"cty \", \"tt \", \"cs \",\"chi nhanh \"]"
   ]
  },
  {
   "cell_type": "code",
   "execution_count": 111,
   "id": "8fbd67b8-a01a-4b0e-8f58-229f58c19b6c",
   "metadata": {},
   "outputs": [
    {
     "name": "stdout",
     "output_type": "stream",
     "text": [
      "           0\n",
      "0      An Cơ\n",
      "1   An Khang\n",
      "2     Ân Lai\n",
      "3     An Nam\n",
      "4  An Nguyên\n",
      "            0\n",
      "0  Phương Chi\n",
      "1     An Bình\n",
      "2       An Di\n",
      "3       An Hạ\n",
      "4     An Hằng\n"
     ]
    }
   ],
   "source": [
    "boy_names = pd.read_csv(\"data/boy.txt\", delimiter = \"\\t\",  header=None)\n",
    "girl_names = pd.read_csv(\"data/girl.txt\", delimiter = \"\\t\",  header=None)\n",
    "print(boy_names.head())\n",
    "print(girl_names.head())"
   ]
  },
  {
   "cell_type": "code",
   "execution_count": 112,
   "id": "442379ad-c4a6-43d7-b24e-c4bad4f1f0c9",
   "metadata": {},
   "outputs": [
    {
     "name": "stdout",
     "output_type": "stream",
     "text": [
      "28782\n"
     ]
    }
   ],
   "source": [
    "# Sinh dữ liệu tên non person\n",
    "gen_data = []\n",
    "label_gen = []\n",
    "no_samples = 100\n",
    "for i in range(len(tien_to)):\n",
    "    # Các trường hợp ngoại lệ\n",
    "    gen_data.append(\"khong su dung\")\n",
    "    label_gen.append(0) \n",
    "    gen_data.append(\"keu\")\n",
    "    label_gen.append(0)\n",
    "    for j in range(no_samples):\n",
    "        # trường hợp tiền tố + tên đệm và tên\n",
    "        gen_data.append(tien_to[i] + unidecode(boy_names[0][j]).lower())\n",
    "        label_gen.append(0)\n",
    "        gen_data.append(tien_to[i] + unidecode(girl_names[0][j]).lower())\n",
    "        label_gen.append(0)\n",
    "        # trường hợp tiền tố + full name\n",
    "        gen_data.append(tien_to[i] + full_name[j].split()[0] + \" \" + unidecode(boy_names[0][j]).lower())\n",
    "        label_gen.append(0) \n",
    "        gen_data.append(tien_to[i] + full_name[j].split()[0] + \" \" + unidecode(girl_names[0][j]).lower())\n",
    "        label_gen.append(0) \n",
    "        gen_data.append(tien_to[i] + full_name[j])\n",
    "        label_gen.append(0) \n",
    "        # trường hợp tiền tố + tên\n",
    "        gen_data.append(tien_to[i] + first_name[j])\n",
    "        label_gen.append(0) \n",
    "        # trường hợp chỉ có tên\n",
    "        gen_data.append(first_name[j])\n",
    "        label_gen.append(0) \n",
    "print(len(gen_data))"
   ]
  },
  {
   "cell_type": "code",
   "execution_count": 113,
   "id": "754bd53c-6a52-43b8-a886-9ca48dc162e6",
   "metadata": {},
   "outputs": [
    {
     "data": {
      "text/html": [
       "<div>\n",
       "<style scoped>\n",
       "    .dataframe tbody tr th:only-of-type {\n",
       "        vertical-align: middle;\n",
       "    }\n",
       "\n",
       "    .dataframe tbody tr th {\n",
       "        vertical-align: top;\n",
       "    }\n",
       "\n",
       "    .dataframe thead th {\n",
       "        text-align: right;\n",
       "    }\n",
       "</style>\n",
       "<table border=\"1\" class=\"dataframe\">\n",
       "  <thead>\n",
       "    <tr style=\"text-align: right;\">\n",
       "      <th></th>\n",
       "      <th>name</th>\n",
       "      <th>label</th>\n",
       "    </tr>\n",
       "  </thead>\n",
       "  <tbody>\n",
       "    <tr>\n",
       "      <th>0</th>\n",
       "      <td>khong su dung</td>\n",
       "      <td>0</td>\n",
       "    </tr>\n",
       "    <tr>\n",
       "      <th>1</th>\n",
       "      <td>keu</td>\n",
       "      <td>0</td>\n",
       "    </tr>\n",
       "    <tr>\n",
       "      <th>2</th>\n",
       "      <td>ch an co</td>\n",
       "      <td>0</td>\n",
       "    </tr>\n",
       "    <tr>\n",
       "      <th>3</th>\n",
       "      <td>ch phuong chi</td>\n",
       "      <td>0</td>\n",
       "    </tr>\n",
       "    <tr>\n",
       "      <th>4</th>\n",
       "      <td>ch nguyen an co</td>\n",
       "      <td>0</td>\n",
       "    </tr>\n",
       "    <tr>\n",
       "      <th>5</th>\n",
       "      <td>ch nguyen phuong chi</td>\n",
       "      <td>0</td>\n",
       "    </tr>\n",
       "    <tr>\n",
       "      <th>6</th>\n",
       "      <td>ch nguyen thi nhu quynh</td>\n",
       "      <td>0</td>\n",
       "    </tr>\n",
       "    <tr>\n",
       "      <th>7</th>\n",
       "      <td>ch quynh</td>\n",
       "      <td>0</td>\n",
       "    </tr>\n",
       "    <tr>\n",
       "      <th>8</th>\n",
       "      <td>quynh</td>\n",
       "      <td>0</td>\n",
       "    </tr>\n",
       "    <tr>\n",
       "      <th>9</th>\n",
       "      <td>ch an khang</td>\n",
       "      <td>0</td>\n",
       "    </tr>\n",
       "  </tbody>\n",
       "</table>\n",
       "</div>"
      ],
      "text/plain": [
       "                      name label\n",
       "0            khong su dung     0\n",
       "1                      keu     0\n",
       "2                 ch an co     0\n",
       "3            ch phuong chi     0\n",
       "4          ch nguyen an co     0\n",
       "5     ch nguyen phuong chi     0\n",
       "6  ch nguyen thi nhu quynh     0\n",
       "7                 ch quynh     0\n",
       "8                    quynh     0\n",
       "9              ch an khang     0"
      ]
     },
     "execution_count": 113,
     "metadata": {},
     "output_type": "execute_result"
    }
   ],
   "source": [
    "df_gen = pd.DataFrame([gen_data, label_gen])\n",
    "df_gen = df_gen.transpose()\n",
    "df_gen.columns = [\"name\", \"label\"]\n",
    "df_gen.head(10)"
   ]
  },
  {
   "cell_type": "code",
   "execution_count": 114,
   "id": "b8bf0dcd",
   "metadata": {},
   "outputs": [],
   "source": [
    "df_gan = pd.read_excel('ten_nguoidt.xlsx')"
   ]
  },
  {
   "cell_type": "code",
   "execution_count": 115,
   "id": "d7ccb429",
   "metadata": {},
   "outputs": [
    {
     "data": {
      "text/html": [
       "<div>\n",
       "<style scoped>\n",
       "    .dataframe tbody tr th:only-of-type {\n",
       "        vertical-align: middle;\n",
       "    }\n",
       "\n",
       "    .dataframe tbody tr th {\n",
       "        vertical-align: top;\n",
       "    }\n",
       "\n",
       "    .dataframe thead th {\n",
       "        text-align: right;\n",
       "    }\n",
       "</style>\n",
       "<table border=\"1\" class=\"dataframe\">\n",
       "  <thead>\n",
       "    <tr style=\"text-align: right;\">\n",
       "      <th></th>\n",
       "      <th>name</th>\n",
       "      <th>label</th>\n",
       "    </tr>\n",
       "  </thead>\n",
       "  <tbody>\n",
       "    <tr>\n",
       "      <th>0</th>\n",
       "      <td>DƯƠNG THỊ MIÊN</td>\n",
       "      <td>1</td>\n",
       "    </tr>\n",
       "    <tr>\n",
       "      <th>1</th>\n",
       "      <td>MÔNG TIẾN NHÂM</td>\n",
       "      <td>1</td>\n",
       "    </tr>\n",
       "    <tr>\n",
       "      <th>2</th>\n",
       "      <td>AN MINH KHÔI</td>\n",
       "      <td>1</td>\n",
       "    </tr>\n",
       "    <tr>\n",
       "      <th>3</th>\n",
       "      <td>BẠCH CÔNG DŨNG</td>\n",
       "      <td>1</td>\n",
       "    </tr>\n",
       "    <tr>\n",
       "      <th>4</th>\n",
       "      <td>BẠCH CÔNG TẠO</td>\n",
       "      <td>1</td>\n",
       "    </tr>\n",
       "    <tr>\n",
       "      <th>...</th>\n",
       "      <td>...</td>\n",
       "      <td>...</td>\n",
       "    </tr>\n",
       "    <tr>\n",
       "      <th>15266</th>\n",
       "      <td>VƯƠNG THU HẰNG</td>\n",
       "      <td>1</td>\n",
       "    </tr>\n",
       "    <tr>\n",
       "      <th>15267</th>\n",
       "      <td>VƯƠNG THU TRANG</td>\n",
       "      <td>1</td>\n",
       "    </tr>\n",
       "    <tr>\n",
       "      <th>15268</th>\n",
       "      <td>VƯƠNG VĂN HẢI</td>\n",
       "      <td>1</td>\n",
       "    </tr>\n",
       "    <tr>\n",
       "      <th>15269</th>\n",
       "      <td>VƯƠNG VĂN HÙNG</td>\n",
       "      <td>1</td>\n",
       "    </tr>\n",
       "    <tr>\n",
       "      <th>15270</th>\n",
       "      <td>XA THỊ MINH HOA</td>\n",
       "      <td>1</td>\n",
       "    </tr>\n",
       "  </tbody>\n",
       "</table>\n",
       "<p>15271 rows × 2 columns</p>\n",
       "</div>"
      ],
      "text/plain": [
       "                  name  label\n",
       "0       DƯƠNG THỊ MIÊN      1\n",
       "1       MÔNG TIẾN NHÂM      1\n",
       "2         AN MINH KHÔI      1\n",
       "3       BẠCH CÔNG DŨNG      1\n",
       "4        BẠCH CÔNG TẠO      1\n",
       "...                ...    ...\n",
       "15266   VƯƠNG THU HẰNG      1\n",
       "15267  VƯƠNG THU TRANG      1\n",
       "15268    VƯƠNG VĂN HẢI      1\n",
       "15269   VƯƠNG VĂN HÙNG      1\n",
       "15270  XA THỊ MINH HOA      1\n",
       "\n",
       "[15271 rows x 2 columns]"
      ]
     },
     "execution_count": 115,
     "metadata": {},
     "output_type": "execute_result"
    }
   ],
   "source": [
    "df_gan"
   ]
  },
  {
   "cell_type": "code",
   "execution_count": 124,
   "id": "94bf4b53",
   "metadata": {},
   "outputs": [
    {
     "name": "stdout",
     "output_type": "stream",
     "text": [
      "Done\n",
      "['duong thi mien', 'mong tien nham', 'an minh khoi', 'bach cong dung', 'bach cong tao']\n"
     ]
    }
   ],
   "source": [
    "full_name4 =[]\n",
    "label4 = []\n",
    "for i in df_gan[\"name\"]:\n",
    "    i = i.strip()\n",
    "    full_name4.append(unidecode(i).lower())\n",
    "    label4.append(1)\n",
    "print(\"Done\")\n",
    "print(full_name4[0:5])"
   ]
  },
  {
   "cell_type": "code",
   "execution_count": 125,
   "id": "8f20a1bf",
   "metadata": {},
   "outputs": [
    {
     "data": {
      "text/html": [
       "<div>\n",
       "<style scoped>\n",
       "    .dataframe tbody tr th:only-of-type {\n",
       "        vertical-align: middle;\n",
       "    }\n",
       "\n",
       "    .dataframe tbody tr th {\n",
       "        vertical-align: top;\n",
       "    }\n",
       "\n",
       "    .dataframe thead th {\n",
       "        text-align: right;\n",
       "    }\n",
       "</style>\n",
       "<table border=\"1\" class=\"dataframe\">\n",
       "  <thead>\n",
       "    <tr style=\"text-align: right;\">\n",
       "      <th></th>\n",
       "      <th>name</th>\n",
       "      <th>label</th>\n",
       "    </tr>\n",
       "  </thead>\n",
       "  <tbody>\n",
       "    <tr>\n",
       "      <th>0</th>\n",
       "      <td>duong thi mien</td>\n",
       "      <td>1</td>\n",
       "    </tr>\n",
       "    <tr>\n",
       "      <th>1</th>\n",
       "      <td>mong tien nham</td>\n",
       "      <td>1</td>\n",
       "    </tr>\n",
       "    <tr>\n",
       "      <th>2</th>\n",
       "      <td>an minh khoi</td>\n",
       "      <td>1</td>\n",
       "    </tr>\n",
       "    <tr>\n",
       "      <th>3</th>\n",
       "      <td>bach cong dung</td>\n",
       "      <td>1</td>\n",
       "    </tr>\n",
       "    <tr>\n",
       "      <th>4</th>\n",
       "      <td>bach cong tao</td>\n",
       "      <td>1</td>\n",
       "    </tr>\n",
       "    <tr>\n",
       "      <th>5</th>\n",
       "      <td>bach quang tuyen</td>\n",
       "      <td>1</td>\n",
       "    </tr>\n",
       "    <tr>\n",
       "      <th>6</th>\n",
       "      <td>bach thi mai</td>\n",
       "      <td>1</td>\n",
       "    </tr>\n",
       "    <tr>\n",
       "      <th>7</th>\n",
       "      <td>bach thi thao</td>\n",
       "      <td>1</td>\n",
       "    </tr>\n",
       "    <tr>\n",
       "      <th>8</th>\n",
       "      <td>bach thi tuyet nhung</td>\n",
       "      <td>1</td>\n",
       "    </tr>\n",
       "    <tr>\n",
       "      <th>9</th>\n",
       "      <td>ban thi tinh</td>\n",
       "      <td>1</td>\n",
       "    </tr>\n",
       "  </tbody>\n",
       "</table>\n",
       "</div>"
      ],
      "text/plain": [
       "                   name label\n",
       "0        duong thi mien     1\n",
       "1        mong tien nham     1\n",
       "2          an minh khoi     1\n",
       "3        bach cong dung     1\n",
       "4         bach cong tao     1\n",
       "5      bach quang tuyen     1\n",
       "6          bach thi mai     1\n",
       "7         bach thi thao     1\n",
       "8  bach thi tuyet nhung     1\n",
       "9          ban thi tinh     1"
      ]
     },
     "execution_count": 125,
     "metadata": {},
     "output_type": "execute_result"
    }
   ],
   "source": [
    "df_dantoc = pd.DataFrame([full_name4, label4])\n",
    "df_dantoc = df_dantoc.transpose()\n",
    "df_dantoc.columns = [\"name\", \"label\"]\n",
    "df_dantoc.head(10)"
   ]
  },
  {
   "cell_type": "code",
   "execution_count": 126,
   "id": "071f2f3f-3a42-4d29-a889-591a776fd589",
   "metadata": {},
   "outputs": [
    {
     "data": {
      "text/html": [
       "<div>\n",
       "<style scoped>\n",
       "    .dataframe tbody tr th:only-of-type {\n",
       "        vertical-align: middle;\n",
       "    }\n",
       "\n",
       "    .dataframe tbody tr th {\n",
       "        vertical-align: top;\n",
       "    }\n",
       "\n",
       "    .dataframe thead th {\n",
       "        text-align: right;\n",
       "    }\n",
       "</style>\n",
       "<table border=\"1\" class=\"dataframe\">\n",
       "  <thead>\n",
       "    <tr style=\"text-align: right;\">\n",
       "      <th></th>\n",
       "      <th>name</th>\n",
       "      <th>label</th>\n",
       "    </tr>\n",
       "  </thead>\n",
       "  <tbody>\n",
       "    <tr>\n",
       "      <th>71977</th>\n",
       "      <td>vuong thu hang</td>\n",
       "      <td>1</td>\n",
       "    </tr>\n",
       "    <tr>\n",
       "      <th>71978</th>\n",
       "      <td>vuong thu trang</td>\n",
       "      <td>1</td>\n",
       "    </tr>\n",
       "    <tr>\n",
       "      <th>71979</th>\n",
       "      <td>vuong van hai</td>\n",
       "      <td>1</td>\n",
       "    </tr>\n",
       "    <tr>\n",
       "      <th>71980</th>\n",
       "      <td>vuong van hung</td>\n",
       "      <td>1</td>\n",
       "    </tr>\n",
       "    <tr>\n",
       "      <th>71981</th>\n",
       "      <td>xa thi minh hoa</td>\n",
       "      <td>1</td>\n",
       "    </tr>\n",
       "  </tbody>\n",
       "</table>\n",
       "</div>"
      ],
      "text/plain": [
       "                  name label\n",
       "71977   vuong thu hang     1\n",
       "71978  vuong thu trang     1\n",
       "71979    vuong van hai     1\n",
       "71980   vuong van hung     1\n",
       "71981  xa thi minh hoa     1"
      ]
     },
     "execution_count": 126,
     "metadata": {},
     "output_type": "execute_result"
    }
   ],
   "source": [
    "X = pd.concat([df_aug, df1, df2, df3, df_gen,df_dantoc],ignore_index=True)\n",
    "X.tail()"
   ]
  },
  {
   "cell_type": "code",
   "execution_count": 127,
   "id": "b401619b-80aa-4c8e-a917-fe981bb0b1f3",
   "metadata": {},
   "outputs": [
    {
     "name": "stdout",
     "output_type": "stream",
     "text": [
      "X_train: (57585, 2), X_test: (14397, 2)\n"
     ]
    }
   ],
   "source": [
    "data_train, data_test = train_test_split(X, test_size=0.2, random_state=102, stratify = X[\"label\"])\n",
    "print(f'X_train: {data_train.shape}, X_test: {data_test.shape}')"
   ]
  },
  {
   "cell_type": "code",
   "execution_count": 128,
   "id": "2d37853a-298a-4de4-a171-9f4ecee5464d",
   "metadata": {},
   "outputs": [
    {
     "name": "stderr",
     "output_type": "stream",
     "text": [
      "c:\\Users\\Admin\\anaconda3\\lib\\site-packages\\seaborn\\_decorators.py:36: FutureWarning: Pass the following variable as a keyword arg: x. From version 0.12, the only valid positional argument will be `data`, and passing other arguments without an explicit keyword will result in an error or misinterpretation.\n",
      "  warnings.warn(\n"
     ]
    },
    {
     "data": {
      "text/plain": [
       "0    30363\n",
       "1    27222\n",
       "Name: label, dtype: int64"
      ]
     },
     "execution_count": 128,
     "metadata": {},
     "output_type": "execute_result"
    },
    {
     "data": {
      "image/png": "[encoded data removed]",
      "text/plain": [
       "<Figure size 432x288 with 1 Axes>"
      ]
     },
     "metadata": {
      "needs_background": "light"
     },
     "output_type": "display_data"
    }
   ],
   "source": [
    "# Distribution of the Target variable.\n",
    "sns.countplot(data_train[\"label\"])\n",
    "data_train[\"label\"].value_counts()"
   ]
  },
  {
   "cell_type": "code",
   "execution_count": 129,
   "id": "97dc236c-f6ee-41dd-9623-882d9ab35b3b",
   "metadata": {},
   "outputs": [
    {
     "name": "stderr",
     "output_type": "stream",
     "text": [
      "c:\\Users\\Admin\\anaconda3\\lib\\site-packages\\seaborn\\_decorators.py:36: FutureWarning: Pass the following variable as a keyword arg: x. From version 0.12, the only valid positional argument will be `data`, and passing other arguments without an explicit keyword will result in an error or misinterpretation.\n",
      "  warnings.warn(\n"
     ]
    },
    {
     "data": {
      "text/plain": [
       "0    7591\n",
       "1    6806\n",
       "Name: label, dtype: int64"
      ]
     },
     "execution_count": 129,
     "metadata": {},
     "output_type": "execute_result"
    },
    {
     "data": {
      "image/png": "[encoded data removed]",
      "text/plain": [
       "<Figure size 432x288 with 1 Axes>"
      ]
     },
     "metadata": {
      "needs_background": "light"
     },
     "output_type": "display_data"
    }
   ],
   "source": [
    "# Distribution of the Target variable.\n",
    "sns.countplot(data_test[\"label\"])\n",
    "data_test[\"label\"].value_counts()"
   ]
  },
  {
   "cell_type": "code",
   "execution_count": 130,
   "id": "86ade6cf-15ea-4560-8ea7-e467f79039e1",
   "metadata": {},
   "outputs": [],
   "source": [
    "data_train.to_csv(\"data_train_moredata4.csv\")\n",
    "data_test.to_csv(\"data_test_moredata4.csv\")"
   ]
  },
  {
   "cell_type": "code",
   "execution_count": 131,
   "id": "bf9ea1a0",
   "metadata": {},
   "outputs": [],
   "source": [
    "f = open('./fullname.txt',encoding='utf-8')\n",
    "lines = f.readlines()"
   ]
  },
  {
   "cell_type": "code",
   "execution_count": 133,
   "id": "5ab3ff8e",
   "metadata": {},
   "outputs": [
    {
     "name": "stdout",
     "output_type": "stream",
     "text": [
      "Done\n",
      "['nguyen kim truc', 'nguyen kim kim', 'nguyen kim tuy', 'nguyen kim vinh', 'nguyen kim ca']\n"
     ]
    }
   ],
   "source": [
    "full_name =[]\n",
    "label = []\n",
    "for i in lines:\n",
    "    i = i.strip()\n",
    "    full_name.append(unidecode(i).lower())\n",
    "    label.append(1)\n",
    "print(\"Done\")\n",
    "print(full_name[0:5])    "
   ]
  },
  {
   "cell_type": "code",
   "execution_count": 135,
   "id": "a6d97467",
   "metadata": {},
   "outputs": [],
   "source": [
    "df_full_name = pd.DataFrame([full_name, label])\n",
    "df_full_name = df_full_name.transpose()\n",
    "df_full_name.columns = [\"name\", \"label\"]\n",
    "df_full_name.head(10)"
   ]
  }
 ],
 "metadata": {
  "kernelspec": {
   "display_name": "base",
   "language": "python",
   "name": "python3"
  },
  "language_info": {
   "codemirror_mode": {
    "name": "ipython",
    "version": 3
   },
   "file_extension": ".py",
   "mimetype": "text/x-python",
   "name": "python",
   "nbconvert_exporter": "python",
   "pygments_lexer": "ipython3",
   "version": "3.8.8"
  },
  "vscode": {
   "interpreter": {
    "hash": "2043299c89c8cd0b4d1a6f5cf4529bd58e6a4e0fe3181a25e0d328c821cdc5c5"
   }
  }
 },
 "nbformat": 4,
 "nbformat_minor": 5
}

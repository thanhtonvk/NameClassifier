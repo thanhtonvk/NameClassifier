{
 "cells": [
  {
   "cell_type": "code",
   "execution_count": 1,
   "id": "77842129-6d82-4e48-b863-d9c9daa51717",
   "metadata": {},
   "outputs": [],
   "source": [
    "import os\n",
    "os.environ[\"CUDA_VISIBLE_DEVICES\"]=\"2\"\n",
    "os.environ['TF_CPP_MIN_LOG_LEVEL'] = '3'\n",
    "import tensorflow as tf\n",
    "from tensorflow.compat.v1 import ConfigProto\n",
    "from tensorflow.compat.v1 import InteractiveSession\n",
    "#https://github.com/thanhhau097/Natual-Language-Processing/blob/master/Text%20Classifier/Vietnamese%20Newspaper%20Text%20Classifier%2010%20Topics.ipynb"
   ]
  },
  {
   "cell_type": "code",
   "execution_count": null,
   "id": "8ba64f21",
   "metadata": {},
   "outputs": [],
   "source": []
  },
  {
   "cell_type": "code",
   "execution_count": 11,
   "id": "f4d9c477",
   "metadata": {},
   "outputs": [
    {
     "name": "stdout",
     "output_type": "stream",
     "text": [
      "Collecting scikit-learn\n",
      "  Downloading scikit_learn-1.2.1-cp38-cp38-manylinux_2_17_x86_64.manylinux2014_x86_64.whl (9.8 MB)\n",
      "\u001b[2K     \u001b[90m━━━━━━━━━━━━━━━━━━━━━━━━━━━━━━━━━━━━━━━━\u001b[0m \u001b[32m9.8/9.8 MB\u001b[0m \u001b[31m3.0 MB/s\u001b[0m eta \u001b[36m0:00:00\u001b[0m00:01\u001b[0m00:01\u001b[0m\n",
      "\u001b[?25hRequirement already satisfied: numpy>=1.17.3 in /home/trung/anaconda3/envs/trung/lib/python3.8/site-packages (from scikit-learn) (1.23.3)\n",
      "Requirement already satisfied: scipy>=1.3.2 in /home/trung/anaconda3/envs/trung/lib/python3.8/site-packages (from scikit-learn) (1.10.0)\n",
      "Collecting joblib>=1.1.1\n",
      "  Using cached joblib-1.2.0-py3-none-any.whl (297 kB)\n",
      "Collecting threadpoolctl>=2.0.0\n",
      "  Downloading threadpoolctl-3.1.0-py3-none-any.whl (14 kB)\n",
      "Installing collected packages: threadpoolctl, joblib, scikit-learn\n",
      "Successfully installed joblib-1.2.0 scikit-learn-1.2.1 threadpoolctl-3.1.0\n"
     ]
    }
   ],
   "source": [
    "!pip3 install scikit-learn"
   ]
  },
  {
   "cell_type": "code",
   "execution_count": 1,
   "id": "a97232ab-8f8f-4842-932b-5023ed2546ed",
   "metadata": {},
   "outputs": [],
   "source": [
    "import pandas as pd \n",
    "import numpy as np\n",
    "import matplotlib.pyplot as plt\n",
    "import seaborn as sns\n",
    "from tqdm import tqdm\n",
    "import numpy as np\n",
    "import gensim # thư viện NLP\n",
    "from unidecode import unidecode\n",
    "# report the best model\n",
    "# from sklearn.metrics.ConfusionMatrixDisplay import plot_confusion_matrix,confusion_matrix\n",
    "from sklearn.metrics import confusion_matrix, ConfusionMatrixDisplay\n",
    "import itertools"
   ]
  },
  {
   "cell_type": "code",
   "execution_count": 8,
   "id": "b700f8e7",
   "metadata": {},
   "outputs": [
    {
     "name": "stdout",
     "output_type": "stream",
     "text": [
      "Collecting openpyxl\n",
      "  Downloading openpyxl-3.1.1-py2.py3-none-any.whl (249 kB)\n",
      "\u001b[2K     \u001b[90m━━━━━━━━━━━━━━━━━━━━━━━━━━━━━━━━━━━━━━━\u001b[0m \u001b[32m249.8/249.8 kB\u001b[0m \u001b[31m1.2 MB/s\u001b[0m eta \u001b[36m0:00:00\u001b[0ma \u001b[36m0:00:01\u001b[0m\n",
      "\u001b[?25hCollecting et-xmlfile\n",
      "  Downloading et_xmlfile-1.1.0-py3-none-any.whl (4.7 kB)\n",
      "Installing collected packages: et-xmlfile, openpyxl\n",
      "Successfully installed et-xmlfile-1.1.0 openpyxl-3.1.1\n"
     ]
    }
   ],
   "source": [
    "!pip install openpyxl"
   ]
  },
  {
   "cell_type": "code",
   "execution_count": 12,
   "id": "dd61bd8a",
   "metadata": {},
   "outputs": [],
   "source": [
    "real_data = pd.read_csv(\"/home/trung/Documents/AI/name_classifier/name_classification/1.csv\")"
   ]
  },
  {
   "cell_type": "code",
   "execution_count": 13,
   "id": "7d852eb4",
   "metadata": {},
   "outputs": [
    {
     "data": {
      "text/html": [
       "<div>\n",
       "<style scoped>\n",
       "    .dataframe tbody tr th:only-of-type {\n",
       "        vertical-align: middle;\n",
       "    }\n",
       "\n",
       "    .dataframe tbody tr th {\n",
       "        vertical-align: top;\n",
       "    }\n",
       "\n",
       "    .dataframe thead th {\n",
       "        text-align: right;\n",
       "    }\n",
       "</style>\n",
       "<table border=\"1\" class=\"dataframe\">\n",
       "  <thead>\n",
       "    <tr style=\"text-align: right;\">\n",
       "      <th></th>\n",
       "      <th>MaKH</th>\n",
       "      <th>name</th>\n",
       "    </tr>\n",
       "  </thead>\n",
       "  <tbody>\n",
       "    <tr>\n",
       "      <th>0</th>\n",
       "      <td>0</td>\n",
       "      <td>tran duc dung</td>\n",
       "    </tr>\n",
       "    <tr>\n",
       "      <th>1</th>\n",
       "      <td>1</td>\n",
       "      <td>hoang thi linh</td>\n",
       "    </tr>\n",
       "    <tr>\n",
       "      <th>2</th>\n",
       "      <td>2</td>\n",
       "      <td>hoang thi thuy</td>\n",
       "    </tr>\n",
       "    <tr>\n",
       "      <th>3</th>\n",
       "      <td>3</td>\n",
       "      <td>nguyen thi loan</td>\n",
       "    </tr>\n",
       "    <tr>\n",
       "      <th>4</th>\n",
       "      <td>4</td>\n",
       "      <td>pham thi thuy hien</td>\n",
       "    </tr>\n",
       "    <tr>\n",
       "      <th>...</th>\n",
       "      <td>...</td>\n",
       "      <td>...</td>\n",
       "    </tr>\n",
       "    <tr>\n",
       "      <th>9995</th>\n",
       "      <td>9995</td>\n",
       "      <td>ngo van thoan</td>\n",
       "    </tr>\n",
       "    <tr>\n",
       "      <th>9996</th>\n",
       "      <td>9996</td>\n",
       "      <td>luc thi hoi</td>\n",
       "    </tr>\n",
       "    <tr>\n",
       "      <th>9997</th>\n",
       "      <td>9997</td>\n",
       "      <td>cao duc manh</td>\n",
       "    </tr>\n",
       "    <tr>\n",
       "      <th>9998</th>\n",
       "      <td>9998</td>\n",
       "      <td>pham trung thuc</td>\n",
       "    </tr>\n",
       "    <tr>\n",
       "      <th>9999</th>\n",
       "      <td>9999</td>\n",
       "      <td>ma thi huynh</td>\n",
       "    </tr>\n",
       "  </tbody>\n",
       "</table>\n",
       "<p>10000 rows × 2 columns</p>\n",
       "</div>"
      ],
      "text/plain": [
       "      MaKH                name\n",
       "0        0       tran duc dung\n",
       "1        1      hoang thi linh\n",
       "2        2      hoang thi thuy\n",
       "3        3     nguyen thi loan\n",
       "4        4  pham thi thuy hien\n",
       "...    ...                 ...\n",
       "9995  9995       ngo van thoan\n",
       "9996  9996         luc thi hoi\n",
       "9997  9997        cao duc manh\n",
       "9998  9998     pham trung thuc\n",
       "9999  9999        ma thi huynh\n",
       "\n",
       "[10000 rows x 2 columns]"
      ]
     },
     "execution_count": 13,
     "metadata": {},
     "output_type": "execute_result"
    }
   ],
   "source": [
    "real_data"
   ]
  },
  {
   "cell_type": "code",
   "execution_count": 18,
   "id": "71017875",
   "metadata": {},
   "outputs": [],
   "source": [
    "import pickle\n",
    "import os\n",
    "import pandas as pd\n",
    "from sklearn.feature_extraction.text import TfidfVectorizer\n",
    "import numpy as np\n",
    "from sklearn.metrics import confusion_matrix,accuracy_score\n",
    "from unidecode import unidecode\n"
   ]
  },
  {
   "cell_type": "code",
   "execution_count": null,
   "id": "8eb077fa",
   "metadata": {},
   "outputs": [],
   "source": [
    "name_classification = model(\n",
    "    model_path='./xgboost_name_classification.pkl')"
   ]
  },
  {
   "cell_type": "code",
   "execution_count": 3,
   "id": "513ebb42-9eb7-44ba-b115-4181d52b2044",
   "metadata": {},
   "outputs": [
    {
     "data": {
      "text/html": [
       "<div>\n",
       "<style scoped>\n",
       "    .dataframe tbody tr th:only-of-type {\n",
       "        vertical-align: middle;\n",
       "    }\n",
       "\n",
       "    .dataframe tbody tr th {\n",
       "        vertical-align: top;\n",
       "    }\n",
       "\n",
       "    .dataframe thead th {\n",
       "        text-align: right;\n",
       "    }\n",
       "</style>\n",
       "<table border=\"1\" class=\"dataframe\">\n",
       "  <thead>\n",
       "    <tr style=\"text-align: right;\">\n",
       "      <th></th>\n",
       "      <th>name</th>\n",
       "      <th>label</th>\n",
       "    </tr>\n",
       "  </thead>\n",
       "  <tbody>\n",
       "    <tr>\n",
       "      <th>0</th>\n",
       "      <td>HO KD CUA HANG KDTH NGOC DUC</td>\n",
       "      <td>0</td>\n",
       "    </tr>\n",
       "    <tr>\n",
       "      <th>1</th>\n",
       "      <td>CT TNHH DT VA TM MINH PHUONG NAM HN</td>\n",
       "      <td>0</td>\n",
       "    </tr>\n",
       "    <tr>\n",
       "      <th>2</th>\n",
       "      <td>DOAN TNCSHCM TRUONG DHBK HN</td>\n",
       "      <td>0</td>\n",
       "    </tr>\n",
       "    <tr>\n",
       "      <th>3</th>\n",
       "      <td>DN TU NHAN THAO HUNG</td>\n",
       "      <td>0</td>\n",
       "    </tr>\n",
       "    <tr>\n",
       "      <th>4</th>\n",
       "      <td>CT RPBM KHU NHA O CBQD</td>\n",
       "      <td>0</td>\n",
       "    </tr>\n",
       "  </tbody>\n",
       "</table>\n",
       "</div>"
      ],
      "text/plain": [
       "                                  name  label\n",
       "0         HO KD CUA HANG KDTH NGOC DUC      0\n",
       "1  CT TNHH DT VA TM MINH PHUONG NAM HN      0\n",
       "2          DOAN TNCSHCM TRUONG DHBK HN      0\n",
       "3                 DN TU NHAN THAO HUNG      0\n",
       "4               CT RPBM KHU NHA O CBQD      0"
      ]
     },
     "execution_count": 3,
     "metadata": {},
     "output_type": "execute_result"
    }
   ],
   "source": [
    "real_data = pd.read_excel(\"data/non_person.xlsx\")\n",
    "real_data.head()"
   ]
  },
  {
   "cell_type": "code",
   "execution_count": 22,
   "id": "276f9c81",
   "metadata": {},
   "outputs": [],
   "source": [
    "test_dt = pd.read_csv(\"/home/trung/Documents/AI/name_classifier/result_testing00000003.csv\")"
   ]
  },
  {
   "cell_type": "code",
   "execution_count": 23,
   "id": "7b09c46f",
   "metadata": {},
   "outputs": [
    {
     "data": {
      "text/html": [
       "<div>\n",
       "<style scoped>\n",
       "    .dataframe tbody tr th:only-of-type {\n",
       "        vertical-align: middle;\n",
       "    }\n",
       "\n",
       "    .dataframe tbody tr th {\n",
       "        vertical-align: top;\n",
       "    }\n",
       "\n",
       "    .dataframe thead th {\n",
       "        text-align: right;\n",
       "    }\n",
       "</style>\n",
       "<table border=\"1\" class=\"dataframe\">\n",
       "  <thead>\n",
       "    <tr style=\"text-align: right;\">\n",
       "      <th></th>\n",
       "      <th>Unnamed: 0</th>\n",
       "      <th>name</th>\n",
       "      <th>Prediction result</th>\n",
       "      <th>pro non_persion</th>\n",
       "    </tr>\n",
       "  </thead>\n",
       "  <tbody>\n",
       "    <tr>\n",
       "      <th>0</th>\n",
       "      <td>0</td>\n",
       "      <td>ho quy nhan</td>\n",
       "      <td>1</td>\n",
       "      <td>0.006134</td>\n",
       "    </tr>\n",
       "    <tr>\n",
       "      <th>1</th>\n",
       "      <td>1</td>\n",
       "      <td>lam thi thanh xuan</td>\n",
       "      <td>1</td>\n",
       "      <td>0.017681</td>\n",
       "    </tr>\n",
       "    <tr>\n",
       "      <th>2</th>\n",
       "      <td>2</td>\n",
       "      <td>tran van mien</td>\n",
       "      <td>1</td>\n",
       "      <td>0.003329</td>\n",
       "    </tr>\n",
       "    <tr>\n",
       "      <th>3</th>\n",
       "      <td>3</td>\n",
       "      <td>nguyen ngoc dung</td>\n",
       "      <td>1</td>\n",
       "      <td>0.001727</td>\n",
       "    </tr>\n",
       "    <tr>\n",
       "      <th>4</th>\n",
       "      <td>4</td>\n",
       "      <td>quang thi nhung</td>\n",
       "      <td>1</td>\n",
       "      <td>0.024246</td>\n",
       "    </tr>\n",
       "    <tr>\n",
       "      <th>...</th>\n",
       "      <td>...</td>\n",
       "      <td>...</td>\n",
       "      <td>...</td>\n",
       "      <td>...</td>\n",
       "    </tr>\n",
       "    <tr>\n",
       "      <th>9995</th>\n",
       "      <td>9995</td>\n",
       "      <td>hoang thi hong</td>\n",
       "      <td>1</td>\n",
       "      <td>0.007876</td>\n",
       "    </tr>\n",
       "    <tr>\n",
       "      <th>9996</th>\n",
       "      <td>9996</td>\n",
       "      <td>pham anh dung</td>\n",
       "      <td>1</td>\n",
       "      <td>0.001448</td>\n",
       "    </tr>\n",
       "    <tr>\n",
       "      <th>9997</th>\n",
       "      <td>9997</td>\n",
       "      <td>nguyen thi xuan</td>\n",
       "      <td>1</td>\n",
       "      <td>0.000482</td>\n",
       "    </tr>\n",
       "    <tr>\n",
       "      <th>9998</th>\n",
       "      <td>9998</td>\n",
       "      <td>trinh thuy dung</td>\n",
       "      <td>1</td>\n",
       "      <td>0.003319</td>\n",
       "    </tr>\n",
       "    <tr>\n",
       "      <th>9999</th>\n",
       "      <td>9999</td>\n",
       "      <td>nguyen tan sang</td>\n",
       "      <td>1</td>\n",
       "      <td>0.010766</td>\n",
       "    </tr>\n",
       "  </tbody>\n",
       "</table>\n",
       "<p>10000 rows × 4 columns</p>\n",
       "</div>"
      ],
      "text/plain": [
       "      Unnamed: 0                name  Prediction result  pro non_persion\n",
       "0              0         ho quy nhan                  1         0.006134\n",
       "1              1  lam thi thanh xuan                  1         0.017681\n",
       "2              2       tran van mien                  1         0.003329\n",
       "3              3    nguyen ngoc dung                  1         0.001727\n",
       "4              4     quang thi nhung                  1         0.024246\n",
       "...          ...                 ...                ...              ...\n",
       "9995        9995      hoang thi hong                  1         0.007876\n",
       "9996        9996       pham anh dung                  1         0.001448\n",
       "9997        9997     nguyen thi xuan                  1         0.000482\n",
       "9998        9998     trinh thuy dung                  1         0.003319\n",
       "9999        9999     nguyen tan sang                  1         0.010766\n",
       "\n",
       "[10000 rows x 4 columns]"
      ]
     },
     "execution_count": 23,
     "metadata": {},
     "output_type": "execute_result"
    }
   ],
   "source": [
    "test_dt"
   ]
  },
  {
   "cell_type": "code",
   "execution_count": 4,
   "id": "1abdc521-cf6e-482f-866a-35ba05644e06",
   "metadata": {},
   "outputs": [
    {
     "name": "stdout",
     "output_type": "stream",
     "text": [
      "Done\n",
      "['ho kd cua hang kdth ngoc duc', 'ct tnhh dt va tm minh phuong nam hn', 'doan tncshcm truong dhbk hn', 'dn tu nhan thao hung', 'ct rpbm khu nha o cbqd']\n"
     ]
    }
   ],
   "source": [
    "full_name =[]\n",
    "label = []\n",
    "for i in real_data.index:\n",
    "    full_name.append(unidecode(real_data[\"name\"][i]).lower())\n",
    "    label.append(real_data[\"label\"][i])\n",
    "print(\"Done\")\n",
    "print(full_name[0:5])"
   ]
  },
  {
   "cell_type": "code",
   "execution_count": 5,
   "id": "4be601ee-750c-4f7a-966b-eed60bb8a3e2",
   "metadata": {},
   "outputs": [
    {
     "data": {
      "text/html": [
       "<div>\n",
       "<style scoped>\n",
       "    .dataframe tbody tr th:only-of-type {\n",
       "        vertical-align: middle;\n",
       "    }\n",
       "\n",
       "    .dataframe tbody tr th {\n",
       "        vertical-align: top;\n",
       "    }\n",
       "\n",
       "    .dataframe thead th {\n",
       "        text-align: right;\n",
       "    }\n",
       "</style>\n",
       "<table border=\"1\" class=\"dataframe\">\n",
       "  <thead>\n",
       "    <tr style=\"text-align: right;\">\n",
       "      <th></th>\n",
       "      <th>name</th>\n",
       "      <th>label</th>\n",
       "    </tr>\n",
       "  </thead>\n",
       "  <tbody>\n",
       "    <tr>\n",
       "      <th>0</th>\n",
       "      <td>ho kd cua hang kdth ngoc duc</td>\n",
       "      <td>0</td>\n",
       "    </tr>\n",
       "    <tr>\n",
       "      <th>1</th>\n",
       "      <td>ct tnhh dt va tm minh phuong nam hn</td>\n",
       "      <td>0</td>\n",
       "    </tr>\n",
       "    <tr>\n",
       "      <th>2</th>\n",
       "      <td>doan tncshcm truong dhbk hn</td>\n",
       "      <td>0</td>\n",
       "    </tr>\n",
       "    <tr>\n",
       "      <th>3</th>\n",
       "      <td>dn tu nhan thao hung</td>\n",
       "      <td>0</td>\n",
       "    </tr>\n",
       "    <tr>\n",
       "      <th>4</th>\n",
       "      <td>ct rpbm khu nha o cbqd</td>\n",
       "      <td>0</td>\n",
       "    </tr>\n",
       "  </tbody>\n",
       "</table>\n",
       "</div>"
      ],
      "text/plain": [
       "                                  name label\n",
       "0         ho kd cua hang kdth ngoc duc     0\n",
       "1  ct tnhh dt va tm minh phuong nam hn     0\n",
       "2          doan tncshcm truong dhbk hn     0\n",
       "3                 dn tu nhan thao hung     0\n",
       "4               ct rpbm khu nha o cbqd     0"
      ]
     },
     "execution_count": 5,
     "metadata": {},
     "output_type": "execute_result"
    }
   ],
   "source": [
    "# Convert to dataframe and labeling\n",
    "real_data = pd.DataFrame([full_name, label])\n",
    "real_data = real_data.transpose()\n",
    "real_data.columns = [\"name\", \"label\"]\n",
    "real_data.head()"
   ]
  },
  {
   "cell_type": "code",
   "execution_count": 6,
   "id": "c907258a-2437-41ec-9e19-ccd7d9ba90aa",
   "metadata": {},
   "outputs": [],
   "source": [
    "real_x = real_data[\"name\"]\n",
    "real_y = real_data[\"label\"]"
   ]
  },
  {
   "cell_type": "code",
   "execution_count": 7,
   "id": "119cd606-3fcd-4497-abde-f80951686d78",
   "metadata": {},
   "outputs": [
    {
     "name": "stderr",
     "output_type": "stream",
     "text": [
      "/home/haipn/.conda/envs/hai-gpu/lib/python3.9/site-packages/seaborn/_decorators.py:36: FutureWarning: Pass the following variable as a keyword arg: x. From version 0.12, the only valid positional argument will be `data`, and passing other arguments without an explicit keyword will result in an error or misinterpretation.\n",
      "  warnings.warn(\n"
     ]
    },
    {
     "data": {
      "text/plain": [
       "0    244\n",
       "1      2\n",
       "Name: label, dtype: int64"
      ]
     },
     "execution_count": 7,
     "metadata": {},
     "output_type": "execute_result"
    },
    {
     "data": {
      "image/png": "[encoded data removed]",
      "text/plain": [
       "<Figure size 640x480 with 1 Axes>"
      ]
     },
     "metadata": {},
     "output_type": "display_data"
    }
   ],
   "source": [
    "# Distribution of the Target variable.\n",
    "sns.countplot(real_y)\n",
    "real_y.value_counts()"
   ]
  },
  {
   "cell_type": "code",
   "execution_count": 8,
   "id": "7870afa9-48aa-4096-bbcf-355b997a2c50",
   "metadata": {},
   "outputs": [],
   "source": [
    "data_train = pd.read_csv(\"data_train_moredata4.csv\")\n",
    "data_test = pd.read_csv(\"data_test_moredata4.csv\")"
   ]
  },
  {
   "cell_type": "code",
   "execution_count": 9,
   "id": "515f6852-c63d-450f-b315-0b870ce8cf9e",
   "metadata": {},
   "outputs": [],
   "source": [
    "y_train = data_train[\"label\"]\n",
    "y_test = data_test[\"label\"]"
   ]
  },
  {
   "cell_type": "code",
   "execution_count": 10,
   "id": "a5e6fe2c-8478-42d1-bf11-dd805e042ba0",
   "metadata": {},
   "outputs": [],
   "source": [
    "x_train = data_train[\"name\"]\n",
    "x_test = data_test[\"name\"]"
   ]
  },
  {
   "cell_type": "code",
   "execution_count": 11,
   "id": "5e07aa2d-f854-4cb7-97dc-e91ee1cc71a2",
   "metadata": {},
   "outputs": [
    {
     "name": "stderr",
     "output_type": "stream",
     "text": [
      "/home/haipn/.conda/envs/hai-gpu/lib/python3.9/site-packages/seaborn/_decorators.py:36: FutureWarning: Pass the following variable as a keyword arg: x. From version 0.12, the only valid positional argument will be `data`, and passing other arguments without an explicit keyword will result in an error or misinterpretation.\n",
      "  warnings.warn(\n"
     ]
    },
    {
     "data": {
      "text/plain": [
       "0    27555\n",
       "1    20525\n",
       "Name: label, dtype: int64"
      ]
     },
     "execution_count": 11,
     "metadata": {},
     "output_type": "execute_result"
    },
    {
     "data": {
      "image/png": "[encoded data removed]",
      "text/plain": [
       "<Figure size 640x480 with 1 Axes>"
      ]
     },
     "metadata": {},
     "output_type": "display_data"
    }
   ],
   "source": [
    "# Distribution of the Target variable.\n",
    "sns.countplot(data_train[\"label\"])\n",
    "data_train[\"label\"].value_counts()"
   ]
  },
  {
   "cell_type": "code",
   "execution_count": 12,
   "id": "73c0a68c-1590-45e8-b7bc-37fdb81f219d",
   "metadata": {},
   "outputs": [],
   "source": [
    "from sklearn.feature_extraction.text import TfidfVectorizer, CountVectorizer\n",
    "\n",
    "# create a count vectorizer object \n",
    "count_vect = CountVectorizer(analyzer='word', token_pattern=r'\\w{1,}')\n",
    "count_vect.fit(x_train)\n",
    "\n",
    "# transform the training and validation data using count vectorizer object\n",
    "X_data_count = count_vect.transform(x_train)\n",
    "X_test_count = count_vect.transform(x_test)\n",
    "real_count = count_vect.transform(real_x)"
   ]
  },
  {
   "cell_type": "code",
   "execution_count": 13,
   "id": "3e811e70-cf3a-4e13-9cb7-d58e0a6c7a28",
   "metadata": {},
   "outputs": [],
   "source": [
    "# word level - we choose max number of words equal to 30000 except all words (100k+ words)\n",
    "tfidf_vect = TfidfVectorizer(analyzer='word', max_features=30000)\n",
    "tfidf_vect.fit(x_train) # learn vocabulary and idf from training set\n",
    "X_data_tfidf =  tfidf_vect.transform(x_train)\n",
    "# assume that we don't have test set before\n",
    "X_test_tfidf =  tfidf_vect.transform(x_test)\n",
    "real_tfidf =  tfidf_vect.transform(real_x)"
   ]
  },
  {
   "cell_type": "code",
   "execution_count": 14,
   "id": "3084ee54-8a43-48de-a3c6-2b118acb28d6",
   "metadata": {},
   "outputs": [],
   "source": [
    "# ngram level - we choose max number of words equal to 30000 except all words (100k+ words)\n",
    "tfidf_vect_ngram = TfidfVectorizer(analyzer='word', max_features=30000, ngram_range=(2, 3))\n",
    "tfidf_vect_ngram.fit(x_train)\n",
    "X_data_tfidf_ngram =  tfidf_vect_ngram.transform(x_train)\n",
    "# assume that we don't have test set before\n",
    "X_test_tfidf_ngram =  tfidf_vect_ngram.transform(x_test)\n",
    "real_tfidf_ngram =  tfidf_vect_ngram.transform(real_x)"
   ]
  },
  {
   "cell_type": "code",
   "execution_count": 15,
   "id": "56b106df-a4b0-43be-ad25-00bf61243d67",
   "metadata": {},
   "outputs": [],
   "source": [
    "# ngram-char level - we choose max number of words equal to 30000 except all words (100k+ words)\n",
    "tfidf_vect_ngram_char = TfidfVectorizer(analyzer='char', max_features=30000, ngram_range=(2, 3))\n",
    "tfidf_vect_ngram_char.fit(x_train)\n",
    "X_data_tfidf_ngram_char =  tfidf_vect_ngram_char.transform(x_train)\n",
    "# assume that we don't have test set before\n",
    "X_test_tfidf_ngram_char =  tfidf_vect_ngram_char.transform(x_test)\n",
    "real_tfidf_ngram_char =  tfidf_vect_ngram_char.transform(real_x)"
   ]
  },
  {
   "cell_type": "code",
   "execution_count": 16,
   "id": "9f37811e-61a4-47ff-ab6e-f7acb6ab7e7c",
   "metadata": {},
   "outputs": [],
   "source": [
    "from sklearn.decomposition import TruncatedSVD\n",
    "\n",
    "svd = TruncatedSVD(n_components=300, random_state=42)\n",
    "svd.fit(X_data_tfidf)\n",
    "\n",
    "X_data_tfidf_svd = svd.transform(X_data_tfidf)\n",
    "X_test_tfidf_svd = svd.transform(X_test_tfidf)"
   ]
  },
  {
   "cell_type": "code",
   "execution_count": 17,
   "id": "435f5457-9be0-4f8f-b36f-f8320abb5691",
   "metadata": {},
   "outputs": [],
   "source": [
    "svd_ngram = TruncatedSVD(n_components=300, random_state=42)\n",
    "svd_ngram.fit(X_data_tfidf_ngram)\n",
    "\n",
    "X_data_tfidf_ngram_svd = svd_ngram.transform(X_data_tfidf_ngram)\n",
    "X_test_tfidf_ngram_svd = svd_ngram.transform(X_test_tfidf_ngram)"
   ]
  },
  {
   "cell_type": "code",
   "execution_count": 18,
   "id": "803942cb-77f9-4fc9-bdc9-bb09f6d716e0",
   "metadata": {},
   "outputs": [],
   "source": [
    "svd_ngram_char = TruncatedSVD(n_components=300, random_state=42)\n",
    "svd_ngram_char.fit(X_data_tfidf_ngram_char)\n",
    "\n",
    "X_data_tfidf_ngram_char_svd = svd_ngram_char.transform(X_data_tfidf_ngram_char)\n",
    "X_test_tfidf_ngram_char_svd = svd_ngram_char.transform(X_test_tfidf_ngram_char)"
   ]
  },
  {
   "cell_type": "code",
   "execution_count": 19,
   "id": "ee04fbc9-4e2a-49aa-a8b9-af7b0aa98ff8",
   "metadata": {},
   "outputs": [
    {
     "name": "stderr",
     "output_type": "stream",
     "text": [
      "/tmp/ipykernel_9152/3450831678.py:4: DeprecationWarning: Call to deprecated `wv` (Attribute will be removed in 4.0.0, use self instead).\n",
      "  vocab = w2v.wv.vocab\n",
      "/tmp/ipykernel_9152/3450831678.py:5: DeprecationWarning: Call to deprecated `wv` (Attribute will be removed in 4.0.0, use self instead).\n",
      "  wv = w2v.wv\n"
     ]
    }
   ],
   "source": [
    "from gensim.models import KeyedVectors \n",
    "word2vec_model_path = \"pretrained_model/vi.vec\"\n",
    "w2v = KeyedVectors.load_word2vec_format(word2vec_model_path)\n",
    "vocab = w2v.wv.vocab\n",
    "wv = w2v.wv\n",
    "\n",
    "def get_word2vec_data(X):\n",
    "    word2vec_data = []\n",
    "    for x in X:\n",
    "        sentence = []\n",
    "        for word in x.split(\" \"):\n",
    "            if word in vocab:\n",
    "                sentence.append(wv[word])\n",
    "\n",
    "        word2vec_data.append(sentence)\n",
    "\n",
    "    return word2vec_data\n",
    "\n",
    "X_data_w2v = get_word2vec_data(x_train)\n",
    "X_test_w2v = get_word2vec_data(x_test)"
   ]
  },
  {
   "cell_type": "code",
   "execution_count": 20,
   "id": "b3edaada-7998-46c4-b96f-3f947f8d34db",
   "metadata": {},
   "outputs": [
    {
     "data": {
      "text/plain": [
       "array([1, 0, 0, ..., 1, 1, 1])"
      ]
     },
     "execution_count": 20,
     "metadata": {},
     "output_type": "execute_result"
    }
   ],
   "source": [
    "y_train.values"
   ]
  },
  {
   "cell_type": "code",
   "execution_count": 21,
   "id": "8e6f90c6-3f62-4b20-a8cf-4696a14974f6",
   "metadata": {},
   "outputs": [
    {
     "data": {
      "text/plain": [
       "array([0, 1])"
      ]
     },
     "execution_count": 21,
     "metadata": {},
     "output_type": "execute_result"
    }
   ],
   "source": [
    "from sklearn.preprocessing import OneHotEncoder, LabelEncoder\n",
    "\n",
    "encoder = LabelEncoder()\n",
    "y_data_n = encoder.fit_transform(y_train)\n",
    "y_test_n = encoder.fit_transform(y_test)\n",
    "encoder.classes_"
   ]
  },
  {
   "cell_type": "code",
   "execution_count": 22,
   "id": "fec7b302-9528-4834-9f08-c475251f9aa7",
   "metadata": {},
   "outputs": [],
   "source": [
    "######### Modeling #############\n",
    "from sklearn import model_selection, preprocessing, linear_model, naive_bayes, metrics, svm\n",
    "from sklearn import decomposition, ensemble\n",
    "from sklearn.model_selection import train_test_split\n",
    "from imblearn.over_sampling import SMOTE\n",
    "\n",
    "def plot_confusion_matrix_custom(cm, classes,\n",
    "                          normalize=False,\n",
    "                          title='Confusion matrix',\n",
    "                          cmap=plt.cm.Blues):\n",
    "    \"\"\"\n",
    "    This function prints and plots the confusion matrix.\n",
    "    Normalization can be applied by setting `normalize=True`.\n",
    "    \"\"\"\n",
    "    plt.imshow(cm, interpolation='nearest', cmap=cmap)\n",
    "    plt.title(title)\n",
    "    plt.colorbar()\n",
    "    tick_marks = np.arange(len(classes))\n",
    "    plt.xticks(tick_marks, classes, rotation=45)\n",
    "    plt.yticks(tick_marks, classes)\n",
    "\n",
    "    if normalize:\n",
    "        cm = cm.astype('float') / cm.sum(axis=1)[:, np.newaxis]\n",
    "        print(\"Normalized confusion matrix\")\n",
    "    else:\n",
    "        print('Confusion matrix, without normalization')\n",
    "\n",
    "    print(cm)\n",
    "\n",
    "    thresh = cm.max() / 2.\n",
    "    for i, j in itertools.product(range(cm.shape[0]), range(cm.shape[1])):\n",
    "        plt.text(j, i, cm[i, j],\n",
    "                 horizontalalignment=\"center\",\n",
    "                 color=\"white\" if cm[i, j] > thresh else \"black\")\n",
    "\n",
    "    plt.tight_layout()\n",
    "    plt.ylabel('True label')\n",
    "    plt.xlabel('Predicted label')\n",
    "    plt.show()\n",
    "    \n",
    "def over_sampling(X_train, y_train):\n",
    "    oversample = SMOTE(random_state = 42)\n",
    "    x_smote, y_smote = oversample.fit_resample(X_train, y_train)\n",
    "    return x_smote, y_smote"
   ]
  },
  {
   "cell_type": "code",
   "execution_count": 23,
   "id": "89592d88-f0ab-47ca-9ca3-62456f69a799",
   "metadata": {},
   "outputs": [],
   "source": [
    "def train_model(classifier, X_data, y_data, X_test, y_test, is_neuralnet=False, n_epochs=20):       \n",
    "    #x_smote, y_smote = over_sampling(X_data, y_data)\n",
    "    X_train, X_val, y_train, y_val = train_test_split(X_data, y_data, test_size=0.1, random_state=42)\n",
    "    \n",
    "    if is_neuralnet:\n",
    "        classifier.fit(X_train, y_train, validation_data=(X_val, y_val), epochs=n_epochs, batch_size=512, class_weight = class_weight)\n",
    "        \n",
    "        train_predictions = classifier.predict(X_train)\n",
    "        val_predictions = classifier.predict(X_val)\n",
    "        test_predictions = classifier.predict(X_test)\n",
    "        train_predictions = train_predictions.argmax(axis=-1)\n",
    "        val_predictions = val_predictions.argmax(axis=-1)\n",
    "        test_predictions = test_predictions.argmax(axis=-1)\n",
    "        plot_confusion_matrix_custom(confusion_matrix(y_test, test_predictions), classes=[0,1])\n",
    "        \n",
    "\n",
    "    else:\n",
    "        classifier.fit(X_train, y_train)\n",
    "    \n",
    "        train_predictions = classifier.predict(X_train)\n",
    "        val_predictions = classifier.predict(X_val)\n",
    "        test_predictions = classifier.predict(X_test)\n",
    "    \n",
    "        ConfusionMatrixDisplay(classifier, X_test, y_test, display_labels=[\"non_person\", \"person\"])\n",
    "        plt.grid(False)\n",
    "        plt.show()\n",
    "        \n",
    "    print(\"Độ chính xác trên tập huấn luyện: \", metrics.accuracy_score(train_predictions, y_train))    \n",
    "    print(\"Độ chính xác trên tập Validation: \", metrics.accuracy_score(val_predictions, y_val))\n",
    "    print(\"Độ chính xác trên tập kiểm thử: \", metrics.accuracy_score(test_predictions, y_test))\n",
    "    tn, fp, fn, tp = confusion_matrix(y_test, test_predictions).ravel()\n",
    "    tnr = tn/(tn + fp)\n",
    "    print(\"Tỷ lệ phát hiện không phải tên người: %f\" % tnr)\n",
    "    tpr = tp / (tp + fn)\n",
    "    print(\"Tỷ lệ phát hiện tên người: %f\" % tpr)\n",
    "    return classifier"
   ]
  },
  {
   "cell_type": "code",
   "execution_count": 24,
   "id": "cda63d68-eca0-49e1-a3da-0d0e3361f461",
   "metadata": {},
   "outputs": [
    {
     "name": "stderr",
     "output_type": "stream",
     "text": [
      "/home/haipn/.conda/envs/hai-gpu/lib/python3.9/site-packages/sklearn/utils/deprecation.py:87: FutureWarning: Function plot_confusion_matrix is deprecated; Function `plot_confusion_matrix` is deprecated in 1.0 and will be removed in 1.2. Use one of the class methods: ConfusionMatrixDisplay.from_predictions or ConfusionMatrixDisplay.from_estimator.\n",
      "  warnings.warn(msg, category=FutureWarning)\n"
     ]
    },
    {
     "data": {
      "image/png": "[encoded data removed]",
      "text/plain": [
       "<Figure size 640x480 with 2 Axes>"
      ]
     },
     "metadata": {},
     "output_type": "display_data"
    },
    {
     "name": "stdout",
     "output_type": "stream",
     "text": [
      "Độ chính xác trên tập huấn luyện:  0.9285912368275097\n",
      "Độ chính xác trên tập Validation:  0.9209650582362728\n",
      "Độ chính xác trên tập kiểm thử:  0.9285417186590134\n",
      "Tỷ lệ phát hiện không phải tên người: 0.912034\n",
      "Tỷ lệ phát hiện tên người: 0.950701\n"
     ]
    },
    {
     "data": {
      "text/html": [
       "<style>#sk-container-id-1 {color: black;background-color: white;}#sk-container-id-1 pre{padding: 0;}#sk-container-id-1 div.sk-toggleable {background-color: white;}#sk-container-id-1 label.sk-toggleable__label {cursor: pointer;display: block;width: 100%;margin-bottom: 0;padding: 0.3em;box-sizing: border-box;text-align: center;}#sk-container-id-1 label.sk-toggleable__label-arrow:before {content: \"▸\";float: left;margin-right: 0.25em;color: #696969;}#sk-container-id-1 label.sk-toggleable__label-arrow:hover:before {color: black;}#sk-container-id-1 div.sk-estimator:hover label.sk-toggleable__label-arrow:before {color: black;}#sk-container-id-1 div.sk-toggleable__content {max-height: 0;max-width: 0;overflow: hidden;text-align: left;background-color: #f0f8ff;}#sk-container-id-1 div.sk-toggleable__content pre {margin: 0.2em;color: black;border-radius: 0.25em;background-color: #f0f8ff;}#sk-container-id-1 input.sk-toggleable__control:checked~div.sk-toggleable__content {max-height: 200px;max-width: 100%;overflow: auto;}#sk-container-id-1 input.sk-toggleable__control:checked~label.sk-toggleable__label-arrow:before {content: \"▾\";}#sk-container-id-1 div.sk-estimator input.sk-toggleable__control:checked~label.sk-toggleable__label {background-color: #d4ebff;}#sk-container-id-1 div.sk-label input.sk-toggleable__control:checked~label.sk-toggleable__label {background-color: #d4ebff;}#sk-container-id-1 input.sk-hidden--visually {border: 0;clip: rect(1px 1px 1px 1px);clip: rect(1px, 1px, 1px, 1px);height: 1px;margin: -1px;overflow: hidden;padding: 0;position: absolute;width: 1px;}#sk-container-id-1 div.sk-estimator {font-family: monospace;background-color: #f0f8ff;border: 1px dotted black;border-radius: 0.25em;box-sizing: border-box;margin-bottom: 0.5em;}#sk-container-id-1 div.sk-estimator:hover {background-color: #d4ebff;}#sk-container-id-1 div.sk-parallel-item::after {content: \"\";width: 100%;border-bottom: 1px solid gray;flex-grow: 1;}#sk-container-id-1 div.sk-label:hover label.sk-toggleable__label {background-color: #d4ebff;}#sk-container-id-1 div.sk-serial::before {content: \"\";position: absolute;border-left: 1px solid gray;box-sizing: border-box;top: 0;bottom: 0;left: 50%;z-index: 0;}#sk-container-id-1 div.sk-serial {display: flex;flex-direction: column;align-items: center;background-color: white;padding-right: 0.2em;padding-left: 0.2em;position: relative;}#sk-container-id-1 div.sk-item {position: relative;z-index: 1;}#sk-container-id-1 div.sk-parallel {display: flex;align-items: stretch;justify-content: center;background-color: white;position: relative;}#sk-container-id-1 div.sk-item::before, #sk-container-id-1 div.sk-parallel-item::before {content: \"\";position: absolute;border-left: 1px solid gray;box-sizing: border-box;top: 0;bottom: 0;left: 50%;z-index: -1;}#sk-container-id-1 div.sk-parallel-item {display: flex;flex-direction: column;z-index: 1;position: relative;background-color: white;}#sk-container-id-1 div.sk-parallel-item:first-child::after {align-self: flex-end;width: 50%;}#sk-container-id-1 div.sk-parallel-item:last-child::after {align-self: flex-start;width: 50%;}#sk-container-id-1 div.sk-parallel-item:only-child::after {width: 0;}#sk-container-id-1 div.sk-dashed-wrapped {border: 1px dashed gray;margin: 0 0.4em 0.5em 0.4em;box-sizing: border-box;padding-bottom: 0.4em;background-color: white;}#sk-container-id-1 div.sk-label label {font-family: monospace;font-weight: bold;display: inline-block;line-height: 1.2em;}#sk-container-id-1 div.sk-label-container {text-align: center;}#sk-container-id-1 div.sk-container {/* jupyter's `normalize.less` sets `[hidden] { display: none; }` but bootstrap.min.css set `[hidden] { display: none !important; }` so we also need the `!important` here to be able to override the default hidden behavior on the sphinx rendered scikit-learn.org. See: https://github.com/scikit-learn/scikit-learn/issues/21755 */display: inline-block !important;position: relative;}#sk-container-id-1 div.sk-text-repr-fallback {display: none;}</style><div id=\"sk-container-id-1\" class=\"sk-top-container\"><div class=\"sk-text-repr-fallback\"><pre>MultinomialNB()</pre><b>In a Jupyter environment, please rerun this cell to show the HTML representation or trust the notebook. <br />On GitHub, the HTML representation is unable to render, please try loading this page with nbviewer.org.</b></div><div class=\"sk-container\" hidden><div class=\"sk-item\"><div class=\"sk-estimator sk-toggleable\"><input class=\"sk-toggleable__control sk-hidden--visually\" id=\"sk-estimator-id-1\" type=\"checkbox\" checked><label for=\"sk-estimator-id-1\" class=\"sk-toggleable__label sk-toggleable__label-arrow\">MultinomialNB</label><div class=\"sk-toggleable__content\"><pre>MultinomialNB()</pre></div></div></div></div></div>"
      ],
      "text/plain": [
       "MultinomialNB()"
      ]
     },
     "execution_count": 24,
     "metadata": {},
     "output_type": "execute_result"
    }
   ],
   "source": [
    "train_model(naive_bayes.MultinomialNB(), X_data_tfidf, y_train, X_test_tfidf, y_test, is_neuralnet=False)"
   ]
  },
  {
   "cell_type": "code",
   "execution_count": 25,
   "id": "f6b42631-6c05-4178-8edc-28645d03bff4",
   "metadata": {},
   "outputs": [
    {
     "name": "stderr",
     "output_type": "stream",
     "text": [
      "/home/haipn/.conda/envs/hai-gpu/lib/python3.9/site-packages/sklearn/utils/deprecation.py:87: FutureWarning: Function plot_confusion_matrix is deprecated; Function `plot_confusion_matrix` is deprecated in 1.0 and will be removed in 1.2. Use one of the class methods: ConfusionMatrixDisplay.from_predictions or ConfusionMatrixDisplay.from_estimator.\n",
      "  warnings.warn(msg, category=FutureWarning)\n"
     ]
    },
    {
     "data": {
      "image/png": "[encoded data removed]",
      "text/plain": [
       "<Figure size 640x480 with 2 Axes>"
      ]
     },
     "metadata": {},
     "output_type": "display_data"
    },
    {
     "name": "stdout",
     "output_type": "stream",
     "text": [
      "Độ chính xác trên tập huấn luyện:  0.9135006470696987\n",
      "Độ chính xác trên tập Validation:  0.9055740432612313\n",
      "Độ chính xác trên tập kiểm thử:  0.9108227268946011\n",
      "Tỷ lệ phát hiện không phải tên người: 0.867034\n",
      "Tỷ lệ phát hiện tên người: 0.969602\n"
     ]
    },
    {
     "data": {
      "text/html": [
       "<style>#sk-container-id-2 {color: black;background-color: white;}#sk-container-id-2 pre{padding: 0;}#sk-container-id-2 div.sk-toggleable {background-color: white;}#sk-container-id-2 label.sk-toggleable__label {cursor: pointer;display: block;width: 100%;margin-bottom: 0;padding: 0.3em;box-sizing: border-box;text-align: center;}#sk-container-id-2 label.sk-toggleable__label-arrow:before {content: \"▸\";float: left;margin-right: 0.25em;color: #696969;}#sk-container-id-2 label.sk-toggleable__label-arrow:hover:before {color: black;}#sk-container-id-2 div.sk-estimator:hover label.sk-toggleable__label-arrow:before {color: black;}#sk-container-id-2 div.sk-toggleable__content {max-height: 0;max-width: 0;overflow: hidden;text-align: left;background-color: #f0f8ff;}#sk-container-id-2 div.sk-toggleable__content pre {margin: 0.2em;color: black;border-radius: 0.25em;background-color: #f0f8ff;}#sk-container-id-2 input.sk-toggleable__control:checked~div.sk-toggleable__content {max-height: 200px;max-width: 100%;overflow: auto;}#sk-container-id-2 input.sk-toggleable__control:checked~label.sk-toggleable__label-arrow:before {content: \"▾\";}#sk-container-id-2 div.sk-estimator input.sk-toggleable__control:checked~label.sk-toggleable__label {background-color: #d4ebff;}#sk-container-id-2 div.sk-label input.sk-toggleable__control:checked~label.sk-toggleable__label {background-color: #d4ebff;}#sk-container-id-2 input.sk-hidden--visually {border: 0;clip: rect(1px 1px 1px 1px);clip: rect(1px, 1px, 1px, 1px);height: 1px;margin: -1px;overflow: hidden;padding: 0;position: absolute;width: 1px;}#sk-container-id-2 div.sk-estimator {font-family: monospace;background-color: #f0f8ff;border: 1px dotted black;border-radius: 0.25em;box-sizing: border-box;margin-bottom: 0.5em;}#sk-container-id-2 div.sk-estimator:hover {background-color: #d4ebff;}#sk-container-id-2 div.sk-parallel-item::after {content: \"\";width: 100%;border-bottom: 1px solid gray;flex-grow: 1;}#sk-container-id-2 div.sk-label:hover label.sk-toggleable__label {background-color: #d4ebff;}#sk-container-id-2 div.sk-serial::before {content: \"\";position: absolute;border-left: 1px solid gray;box-sizing: border-box;top: 0;bottom: 0;left: 50%;z-index: 0;}#sk-container-id-2 div.sk-serial {display: flex;flex-direction: column;align-items: center;background-color: white;padding-right: 0.2em;padding-left: 0.2em;position: relative;}#sk-container-id-2 div.sk-item {position: relative;z-index: 1;}#sk-container-id-2 div.sk-parallel {display: flex;align-items: stretch;justify-content: center;background-color: white;position: relative;}#sk-container-id-2 div.sk-item::before, #sk-container-id-2 div.sk-parallel-item::before {content: \"\";position: absolute;border-left: 1px solid gray;box-sizing: border-box;top: 0;bottom: 0;left: 50%;z-index: -1;}#sk-container-id-2 div.sk-parallel-item {display: flex;flex-direction: column;z-index: 1;position: relative;background-color: white;}#sk-container-id-2 div.sk-parallel-item:first-child::after {align-self: flex-end;width: 50%;}#sk-container-id-2 div.sk-parallel-item:last-child::after {align-self: flex-start;width: 50%;}#sk-container-id-2 div.sk-parallel-item:only-child::after {width: 0;}#sk-container-id-2 div.sk-dashed-wrapped {border: 1px dashed gray;margin: 0 0.4em 0.5em 0.4em;box-sizing: border-box;padding-bottom: 0.4em;background-color: white;}#sk-container-id-2 div.sk-label label {font-family: monospace;font-weight: bold;display: inline-block;line-height: 1.2em;}#sk-container-id-2 div.sk-label-container {text-align: center;}#sk-container-id-2 div.sk-container {/* jupyter's `normalize.less` sets `[hidden] { display: none; }` but bootstrap.min.css set `[hidden] { display: none !important; }` so we also need the `!important` here to be able to override the default hidden behavior on the sphinx rendered scikit-learn.org. See: https://github.com/scikit-learn/scikit-learn/issues/21755 */display: inline-block !important;position: relative;}#sk-container-id-2 div.sk-text-repr-fallback {display: none;}</style><div id=\"sk-container-id-2\" class=\"sk-top-container\"><div class=\"sk-text-repr-fallback\"><pre>BernoulliNB()</pre><b>In a Jupyter environment, please rerun this cell to show the HTML representation or trust the notebook. <br />On GitHub, the HTML representation is unable to render, please try loading this page with nbviewer.org.</b></div><div class=\"sk-container\" hidden><div class=\"sk-item\"><div class=\"sk-estimator sk-toggleable\"><input class=\"sk-toggleable__control sk-hidden--visually\" id=\"sk-estimator-id-2\" type=\"checkbox\" checked><label for=\"sk-estimator-id-2\" class=\"sk-toggleable__label sk-toggleable__label-arrow\">BernoulliNB</label><div class=\"sk-toggleable__content\"><pre>BernoulliNB()</pre></div></div></div></div></div>"
      ],
      "text/plain": [
       "BernoulliNB()"
      ]
     },
     "execution_count": 25,
     "metadata": {},
     "output_type": "execute_result"
    }
   ],
   "source": [
    "train_model(naive_bayes.BernoulliNB(), X_data_tfidf, y_train, X_test_tfidf, y_test, is_neuralnet=False)"
   ]
  },
  {
   "cell_type": "code",
   "execution_count": 26,
   "id": "edc18bc9-a57e-452f-84c7-772e38850f8a",
   "metadata": {},
   "outputs": [
    {
     "name": "stderr",
     "output_type": "stream",
     "text": [
      "/home/haipn/.conda/envs/hai-gpu/lib/python3.9/site-packages/sklearn/utils/deprecation.py:87: FutureWarning: Function plot_confusion_matrix is deprecated; Function `plot_confusion_matrix` is deprecated in 1.0 and will be removed in 1.2. Use one of the class methods: ConfusionMatrixDisplay.from_predictions or ConfusionMatrixDisplay.from_estimator.\n",
      "  warnings.warn(msg, category=FutureWarning)\n"
     ]
    },
    {
     "data": {
      "image/png": "[encoded data removed]",
      "text/plain": [
       "<Figure size 640x480 with 2 Axes>"
      ]
     },
     "metadata": {},
     "output_type": "display_data"
    },
    {
     "name": "stdout",
     "output_type": "stream",
     "text": [
      "Độ chính xác trên tập huấn luyện:  0.9853253836198927\n",
      "Độ chính xác trên tập Validation:  0.9825291181364393\n",
      "Độ chính xác trên tập kiểm thử:  0.9831960735379752\n",
      "Tỷ lệ phát hiện không phải tên người: 0.986355\n",
      "Tỷ lệ phát hiện tên người: 0.978956\n"
     ]
    },
    {
     "data": {
      "text/html": [
       "<style>#sk-container-id-3 {color: black;background-color: white;}#sk-container-id-3 pre{padding: 0;}#sk-container-id-3 div.sk-toggleable {background-color: white;}#sk-container-id-3 label.sk-toggleable__label {cursor: pointer;display: block;width: 100%;margin-bottom: 0;padding: 0.3em;box-sizing: border-box;text-align: center;}#sk-container-id-3 label.sk-toggleable__label-arrow:before {content: \"▸\";float: left;margin-right: 0.25em;color: #696969;}#sk-container-id-3 label.sk-toggleable__label-arrow:hover:before {color: black;}#sk-container-id-3 div.sk-estimator:hover label.sk-toggleable__label-arrow:before {color: black;}#sk-container-id-3 div.sk-toggleable__content {max-height: 0;max-width: 0;overflow: hidden;text-align: left;background-color: #f0f8ff;}#sk-container-id-3 div.sk-toggleable__content pre {margin: 0.2em;color: black;border-radius: 0.25em;background-color: #f0f8ff;}#sk-container-id-3 input.sk-toggleable__control:checked~div.sk-toggleable__content {max-height: 200px;max-width: 100%;overflow: auto;}#sk-container-id-3 input.sk-toggleable__control:checked~label.sk-toggleable__label-arrow:before {content: \"▾\";}#sk-container-id-3 div.sk-estimator input.sk-toggleable__control:checked~label.sk-toggleable__label {background-color: #d4ebff;}#sk-container-id-3 div.sk-label input.sk-toggleable__control:checked~label.sk-toggleable__label {background-color: #d4ebff;}#sk-container-id-3 input.sk-hidden--visually {border: 0;clip: rect(1px 1px 1px 1px);clip: rect(1px, 1px, 1px, 1px);height: 1px;margin: -1px;overflow: hidden;padding: 0;position: absolute;width: 1px;}#sk-container-id-3 div.sk-estimator {font-family: monospace;background-color: #f0f8ff;border: 1px dotted black;border-radius: 0.25em;box-sizing: border-box;margin-bottom: 0.5em;}#sk-container-id-3 div.sk-estimator:hover {background-color: #d4ebff;}#sk-container-id-3 div.sk-parallel-item::after {content: \"\";width: 100%;border-bottom: 1px solid gray;flex-grow: 1;}#sk-container-id-3 div.sk-label:hover label.sk-toggleable__label {background-color: #d4ebff;}#sk-container-id-3 div.sk-serial::before {content: \"\";position: absolute;border-left: 1px solid gray;box-sizing: border-box;top: 0;bottom: 0;left: 50%;z-index: 0;}#sk-container-id-3 div.sk-serial {display: flex;flex-direction: column;align-items: center;background-color: white;padding-right: 0.2em;padding-left: 0.2em;position: relative;}#sk-container-id-3 div.sk-item {position: relative;z-index: 1;}#sk-container-id-3 div.sk-parallel {display: flex;align-items: stretch;justify-content: center;background-color: white;position: relative;}#sk-container-id-3 div.sk-item::before, #sk-container-id-3 div.sk-parallel-item::before {content: \"\";position: absolute;border-left: 1px solid gray;box-sizing: border-box;top: 0;bottom: 0;left: 50%;z-index: -1;}#sk-container-id-3 div.sk-parallel-item {display: flex;flex-direction: column;z-index: 1;position: relative;background-color: white;}#sk-container-id-3 div.sk-parallel-item:first-child::after {align-self: flex-end;width: 50%;}#sk-container-id-3 div.sk-parallel-item:last-child::after {align-self: flex-start;width: 50%;}#sk-container-id-3 div.sk-parallel-item:only-child::after {width: 0;}#sk-container-id-3 div.sk-dashed-wrapped {border: 1px dashed gray;margin: 0 0.4em 0.5em 0.4em;box-sizing: border-box;padding-bottom: 0.4em;background-color: white;}#sk-container-id-3 div.sk-label label {font-family: monospace;font-weight: bold;display: inline-block;line-height: 1.2em;}#sk-container-id-3 div.sk-label-container {text-align: center;}#sk-container-id-3 div.sk-container {/* jupyter's `normalize.less` sets `[hidden] { display: none; }` but bootstrap.min.css set `[hidden] { display: none !important; }` so we also need the `!important` here to be able to override the default hidden behavior on the sphinx rendered scikit-learn.org. See: https://github.com/scikit-learn/scikit-learn/issues/21755 */display: inline-block !important;position: relative;}#sk-container-id-3 div.sk-text-repr-fallback {display: none;}</style><div id=\"sk-container-id-3\" class=\"sk-top-container\"><div class=\"sk-text-repr-fallback\"><pre>LogisticRegression()</pre><b>In a Jupyter environment, please rerun this cell to show the HTML representation or trust the notebook. <br />On GitHub, the HTML representation is unable to render, please try loading this page with nbviewer.org.</b></div><div class=\"sk-container\" hidden><div class=\"sk-item\"><div class=\"sk-estimator sk-toggleable\"><input class=\"sk-toggleable__control sk-hidden--visually\" id=\"sk-estimator-id-3\" type=\"checkbox\" checked><label for=\"sk-estimator-id-3\" class=\"sk-toggleable__label sk-toggleable__label-arrow\">LogisticRegression</label><div class=\"sk-toggleable__content\"><pre>LogisticRegression()</pre></div></div></div></div></div>"
      ],
      "text/plain": [
       "LogisticRegression()"
      ]
     },
     "execution_count": 26,
     "metadata": {},
     "output_type": "execute_result"
    }
   ],
   "source": [
    "train_model(linear_model.LogisticRegression(),  X_data_tfidf_ngram_char_svd, y_train,  X_test_tfidf_ngram_char_svd, y_test, is_neuralnet=False)"
   ]
  },
  {
   "cell_type": "code",
   "execution_count": 27,
   "id": "8128e5f4-f392-4704-8df6-5eae598a7d1b",
   "metadata": {},
   "outputs": [
    {
     "name": "stderr",
     "output_type": "stream",
     "text": [
      "/home/haipn/.conda/envs/hai-gpu/lib/python3.9/site-packages/sklearn/utils/deprecation.py:87: FutureWarning: Function plot_confusion_matrix is deprecated; Function `plot_confusion_matrix` is deprecated in 1.0 and will be removed in 1.2. Use one of the class methods: ConfusionMatrixDisplay.from_predictions or ConfusionMatrixDisplay.from_estimator.\n",
      "  warnings.warn(msg, category=FutureWarning)\n"
     ]
    },
    {
     "data": {
      "image/png": "[encoded data removed]",
      "text/plain": [
       "<Figure size 640x480 with 2 Axes>"
      ]
     },
     "metadata": {},
     "output_type": "display_data"
    },
    {
     "name": "stdout",
     "output_type": "stream",
     "text": [
      "Độ chính xác trên tập huấn luyện:  0.982274912183398\n",
      "Độ chính xác trên tập Validation:  0.9812811980033278\n",
      "Độ chính xác trên tập kiểm thử:  0.9807836286498628\n",
      "Tỷ lệ phát hiện không phải tên người: 0.983887\n",
      "Tỷ lệ phát hiện tên người: 0.976617\n"
     ]
    },
    {
     "data": {
      "text/html": [
       "<style>#sk-container-id-4 {color: black;background-color: white;}#sk-container-id-4 pre{padding: 0;}#sk-container-id-4 div.sk-toggleable {background-color: white;}#sk-container-id-4 label.sk-toggleable__label {cursor: pointer;display: block;width: 100%;margin-bottom: 0;padding: 0.3em;box-sizing: border-box;text-align: center;}#sk-container-id-4 label.sk-toggleable__label-arrow:before {content: \"▸\";float: left;margin-right: 0.25em;color: #696969;}#sk-container-id-4 label.sk-toggleable__label-arrow:hover:before {color: black;}#sk-container-id-4 div.sk-estimator:hover label.sk-toggleable__label-arrow:before {color: black;}#sk-container-id-4 div.sk-toggleable__content {max-height: 0;max-width: 0;overflow: hidden;text-align: left;background-color: #f0f8ff;}#sk-container-id-4 div.sk-toggleable__content pre {margin: 0.2em;color: black;border-radius: 0.25em;background-color: #f0f8ff;}#sk-container-id-4 input.sk-toggleable__control:checked~div.sk-toggleable__content {max-height: 200px;max-width: 100%;overflow: auto;}#sk-container-id-4 input.sk-toggleable__control:checked~label.sk-toggleable__label-arrow:before {content: \"▾\";}#sk-container-id-4 div.sk-estimator input.sk-toggleable__control:checked~label.sk-toggleable__label {background-color: #d4ebff;}#sk-container-id-4 div.sk-label input.sk-toggleable__control:checked~label.sk-toggleable__label {background-color: #d4ebff;}#sk-container-id-4 input.sk-hidden--visually {border: 0;clip: rect(1px 1px 1px 1px);clip: rect(1px, 1px, 1px, 1px);height: 1px;margin: -1px;overflow: hidden;padding: 0;position: absolute;width: 1px;}#sk-container-id-4 div.sk-estimator {font-family: monospace;background-color: #f0f8ff;border: 1px dotted black;border-radius: 0.25em;box-sizing: border-box;margin-bottom: 0.5em;}#sk-container-id-4 div.sk-estimator:hover {background-color: #d4ebff;}#sk-container-id-4 div.sk-parallel-item::after {content: \"\";width: 100%;border-bottom: 1px solid gray;flex-grow: 1;}#sk-container-id-4 div.sk-label:hover label.sk-toggleable__label {background-color: #d4ebff;}#sk-container-id-4 div.sk-serial::before {content: \"\";position: absolute;border-left: 1px solid gray;box-sizing: border-box;top: 0;bottom: 0;left: 50%;z-index: 0;}#sk-container-id-4 div.sk-serial {display: flex;flex-direction: column;align-items: center;background-color: white;padding-right: 0.2em;padding-left: 0.2em;position: relative;}#sk-container-id-4 div.sk-item {position: relative;z-index: 1;}#sk-container-id-4 div.sk-parallel {display: flex;align-items: stretch;justify-content: center;background-color: white;position: relative;}#sk-container-id-4 div.sk-item::before, #sk-container-id-4 div.sk-parallel-item::before {content: \"\";position: absolute;border-left: 1px solid gray;box-sizing: border-box;top: 0;bottom: 0;left: 50%;z-index: -1;}#sk-container-id-4 div.sk-parallel-item {display: flex;flex-direction: column;z-index: 1;position: relative;background-color: white;}#sk-container-id-4 div.sk-parallel-item:first-child::after {align-self: flex-end;width: 50%;}#sk-container-id-4 div.sk-parallel-item:last-child::after {align-self: flex-start;width: 50%;}#sk-container-id-4 div.sk-parallel-item:only-child::after {width: 0;}#sk-container-id-4 div.sk-dashed-wrapped {border: 1px dashed gray;margin: 0 0.4em 0.5em 0.4em;box-sizing: border-box;padding-bottom: 0.4em;background-color: white;}#sk-container-id-4 div.sk-label label {font-family: monospace;font-weight: bold;display: inline-block;line-height: 1.2em;}#sk-container-id-4 div.sk-label-container {text-align: center;}#sk-container-id-4 div.sk-container {/* jupyter's `normalize.less` sets `[hidden] { display: none; }` but bootstrap.min.css set `[hidden] { display: none !important; }` so we also need the `!important` here to be able to override the default hidden behavior on the sphinx rendered scikit-learn.org. See: https://github.com/scikit-learn/scikit-learn/issues/21755 */display: inline-block !important;position: relative;}#sk-container-id-4 div.sk-text-repr-fallback {display: none;}</style><div id=\"sk-container-id-4\" class=\"sk-top-container\"><div class=\"sk-text-repr-fallback\"><pre>LogisticRegression()</pre><b>In a Jupyter environment, please rerun this cell to show the HTML representation or trust the notebook. <br />On GitHub, the HTML representation is unable to render, please try loading this page with nbviewer.org.</b></div><div class=\"sk-container\" hidden><div class=\"sk-item\"><div class=\"sk-estimator sk-toggleable\"><input class=\"sk-toggleable__control sk-hidden--visually\" id=\"sk-estimator-id-4\" type=\"checkbox\" checked><label for=\"sk-estimator-id-4\" class=\"sk-toggleable__label sk-toggleable__label-arrow\">LogisticRegression</label><div class=\"sk-toggleable__content\"><pre>LogisticRegression()</pre></div></div></div></div></div>"
      ],
      "text/plain": [
       "LogisticRegression()"
      ]
     },
     "execution_count": 27,
     "metadata": {},
     "output_type": "execute_result"
    }
   ],
   "source": [
    "train_model(linear_model.LogisticRegression(), X_data_tfidf_svd, y_train, X_test_tfidf_svd, y_test, is_neuralnet=False)"
   ]
  },
  {
   "cell_type": "code",
   "execution_count": null,
   "id": "d633dc1b-34d6-4e09-9a01-dff1d5b1d899",
   "metadata": {},
   "outputs": [],
   "source": [
    "train_model(svm.SVC(), X_data_tfidf_svd, y_train, X_test_tfidf_svd, y_test, is_neuralnet=False)"
   ]
  },
  {
   "cell_type": "code",
   "execution_count": null,
   "id": "eb85b4c5-b626-48bc-a553-5c04cf384a20",
   "metadata": {},
   "outputs": [],
   "source": [
    "import xgboost\n",
    "\n",
    "train_model(xgboost.XGBClassifier(tree_method='gpu_hist', gpu_id=0), \n",
    "                          X_data_tfidf_svd, y_train,  X_test_tfidf_svd, y_test, is_neuralnet=False)"
   ]
  },
  {
   "cell_type": "code",
   "execution_count": null,
   "id": "dc7c07a9-0204-4fa5-b791-104817a2cbb7",
   "metadata": {},
   "outputs": [],
   "source": [
    "train_model(xgboost.XGBClassifier(tree_method='gpu_hist', gpu_id=0), \n",
    "                          X_data_tfidf_ngram_char_svd, y_train,  X_test_tfidf_ngram_char_svd, y_test, is_neuralnet=False)"
   ]
  },
  {
   "cell_type": "code",
   "execution_count": 29,
   "id": "eaebfaae-3d2c-4383-9bda-80f801cb100d",
   "metadata": {},
   "outputs": [
    {
     "name": "stderr",
     "output_type": "stream",
     "text": [
      "/home/haipn/.conda/envs/hai-gpu/lib/python3.9/site-packages/sklearn/utils/deprecation.py:87: FutureWarning: Function plot_confusion_matrix is deprecated; Function `plot_confusion_matrix` is deprecated in 1.0 and will be removed in 1.2. Use one of the class methods: ConfusionMatrixDisplay.from_predictions or ConfusionMatrixDisplay.from_estimator.\n",
      "  warnings.warn(msg, category=FutureWarning)\n"
     ]
    },
    {
     "data": {
      "image/png": "[encoded data removed]",
      "text/plain": [
       "<Figure size 640x480 with 2 Axes>"
      ]
     },
     "metadata": {},
     "output_type": "display_data"
    },
    {
     "name": "stdout",
     "output_type": "stream",
     "text": [
      "Độ chính xác trên tập huấn luyện:  0.9985440931780366\n",
      "Độ chính xác trên tập Validation:  0.9958402662229617\n",
      "Độ chính xác trên tập kiểm thử:  0.995840612261875\n",
      "Tỷ lệ phát hiện không phải tên người: 0.997387\n",
      "Tỷ lệ phát hiện tên người: 0.993765\n"
     ]
    }
   ],
   "source": [
    "import xgboost\n",
    "best_model = train_model(xgboost.XGBClassifier(tree_method='gpu_hist', gpu_id=0), \n",
    "                         X_data_tfidf_ngram_char, y_train, X_test_tfidf_ngram_char, y_test, is_neuralnet=False)"
   ]
  },
  {
   "cell_type": "code",
   "execution_count": 30,
   "id": "6d2ba092-01d6-486e-80be-f3ecc0486ad7",
   "metadata": {},
   "outputs": [
    {
     "name": "stdout",
     "output_type": "stream",
     "text": [
      "Độ chính xác trên tập dữ liệu thực tế:  0.9959349593495935\n",
      "Tỷ lệ phát hiện không phải tên người: 0.995902\n",
      "Tỷ lệ phát hiện tên người: 1.000000\n"
     ]
    },
    {
     "name": "stderr",
     "output_type": "stream",
     "text": [
      "/home/haipn/.conda/envs/hai-gpu/lib/python3.9/site-packages/sklearn/utils/deprecation.py:87: FutureWarning: Function plot_confusion_matrix is deprecated; Function `plot_confusion_matrix` is deprecated in 1.0 and will be removed in 1.2. Use one of the class methods: ConfusionMatrixDisplay.from_predictions or ConfusionMatrixDisplay.from_estimator.\n",
      "  warnings.warn(msg, category=FutureWarning)\n"
     ]
    },
    {
     "data": {
      "image/png": "[encoded data removed]",
      "text/plain": [
       "<Figure size 640x480 with 2 Axes>"
      ]
     },
     "metadata": {},
     "output_type": "display_data"
    }
   ],
   "source": [
    "real_y = np.array(real_y.values, dtype = \"int\")\n",
    "real_predictions = best_model.predict(real_tfidf_ngram_char)\n",
    "real_predictions_proba = best_model.predict_proba(real_tfidf_ngram_char)\n",
    "print(\"Độ chính xác trên tập dữ liệu thực tế: \", metrics.accuracy_score(real_predictions, real_y))\n",
    "tn, fp, fn, tp = confusion_matrix(real_y, real_predictions).ravel()\n",
    "tnr = tn/(tn + fp)\n",
    "print(\"Tỷ lệ phát hiện không phải tên người: %f\" % tnr)\n",
    "tpr = tp / (tp + fn)\n",
    "print(\"Tỷ lệ phát hiện tên người: %f\" % tpr)\n",
    "\n",
    "plot_confusion_matrix(best_model, real_tfidf_ngram_char, real_y, display_labels=[\"non_person\", \"person\"])\n",
    "plt.grid(False)\n",
    "plt.show()"
   ]
  },
  {
   "cell_type": "code",
   "execution_count": 31,
   "id": "4508e9b3-08f4-4590-bb2c-fb2e63afecae",
   "metadata": {},
   "outputs": [
    {
     "data": {
      "text/html": [
       "<div>\n",
       "<style scoped>\n",
       "    .dataframe tbody tr th:only-of-type {\n",
       "        vertical-align: middle;\n",
       "    }\n",
       "\n",
       "    .dataframe tbody tr th {\n",
       "        vertical-align: top;\n",
       "    }\n",
       "\n",
       "    .dataframe thead th {\n",
       "        text-align: right;\n",
       "    }\n",
       "</style>\n",
       "<table border=\"1\" class=\"dataframe\">\n",
       "  <thead>\n",
       "    <tr style=\"text-align: right;\">\n",
       "      <th></th>\n",
       "      <th>name</th>\n",
       "      <th>Nhãn</th>\n",
       "      <th>Kết quả dự đoán</th>\n",
       "      <th>khả năng non_person</th>\n",
       "    </tr>\n",
       "  </thead>\n",
       "  <tbody>\n",
       "    <tr>\n",
       "      <th>0</th>\n",
       "      <td>ho kd cua hang kdth ngoc duc</td>\n",
       "      <td>0</td>\n",
       "      <td>0</td>\n",
       "      <td>0.999997</td>\n",
       "    </tr>\n",
       "    <tr>\n",
       "      <th>1</th>\n",
       "      <td>ct tnhh dt va tm minh phuong nam hn</td>\n",
       "      <td>0</td>\n",
       "      <td>0</td>\n",
       "      <td>0.999916</td>\n",
       "    </tr>\n",
       "    <tr>\n",
       "      <th>2</th>\n",
       "      <td>doan tncshcm truong dhbk hn</td>\n",
       "      <td>0</td>\n",
       "      <td>0</td>\n",
       "      <td>0.999411</td>\n",
       "    </tr>\n",
       "    <tr>\n",
       "      <th>3</th>\n",
       "      <td>dn tu nhan thao hung</td>\n",
       "      <td>0</td>\n",
       "      <td>0</td>\n",
       "      <td>0.998336</td>\n",
       "    </tr>\n",
       "    <tr>\n",
       "      <th>4</th>\n",
       "      <td>ct rpbm khu nha o cbqd</td>\n",
       "      <td>0</td>\n",
       "      <td>0</td>\n",
       "      <td>0.999527</td>\n",
       "    </tr>\n",
       "  </tbody>\n",
       "</table>\n",
       "</div>"
      ],
      "text/plain": [
       "                                  name Nhãn Kết quả dự đoán  \\\n",
       "0         ho kd cua hang kdth ngoc duc    0               0   \n",
       "1  ct tnhh dt va tm minh phuong nam hn    0               0   \n",
       "2          doan tncshcm truong dhbk hn    0               0   \n",
       "3                 dn tu nhan thao hung    0               0   \n",
       "4               ct rpbm khu nha o cbqd    0               0   \n",
       "\n",
       "  khả năng non_person  \n",
       "0            0.999997  \n",
       "1            0.999916  \n",
       "2            0.999411  \n",
       "3            0.998336  \n",
       "4            0.999527  "
      ]
     },
     "execution_count": 31,
     "metadata": {},
     "output_type": "execute_result"
    }
   ],
   "source": [
    "results = pd.DataFrame([real_x, real_y, real_predictions, real_predictions_proba[:,0]]).transpose()\n",
    "results.columns = [\"name\", \"Nhãn\", \"Kết quả dự đoán\", \"khả năng non_person\"]\n",
    "results.head()"
   ]
  },
  {
   "cell_type": "code",
   "execution_count": 28,
   "id": "49dea716",
   "metadata": {},
   "outputs": [
    {
     "name": "stdout",
     "output_type": "stream",
     "text": [
      "Collecting xgboost\n",
      "  Downloading xgboost-1.7.3-py3-none-manylinux2014_x86_64.whl (193.6 MB)\n",
      "\u001b[2K     \u001b[90m━━━━━━━━━━━━━━━━━━━━━━━━━━━━━━━━━━━━━━━\u001b[0m \u001b[32m193.6/193.6 MB\u001b[0m \u001b[31m2.9 MB/s\u001b[0m eta \u001b[36m0:00:00\u001b[0m00:01\u001b[0m00:02\u001b[0m\n",
      "\u001b[?25hRequirement already satisfied: numpy in /home/trung/anaconda3/envs/trung/lib/python3.8/site-packages (from xgboost) (1.23.3)\n",
      "Requirement already satisfied: scipy in /home/trung/anaconda3/envs/trung/lib/python3.8/site-packages (from xgboost) (1.10.0)\n",
      "Installing collected packages: xgboost\n",
      "Successfully installed xgboost-1.7.3\n"
     ]
    }
   ],
   "source": [
    "!pip install xgboost"
   ]
  },
  {
   "cell_type": "code",
   "execution_count": 2,
   "id": "50880004",
   "metadata": {},
   "outputs": [],
   "source": [
    "class NameClassifier:\n",
    "    def __init__(self,model_path):\n",
    "        self.model = pickle.load(open(model_path, 'rb'))\n",
    "    def preprocessing(self,real_x):\n",
    "        data_train = pd.read_csv(\"/home/trung/Documents/AI/name_classifier/name_classification/data_train_moredata5.csv\")\n",
    "        x_train = data_train[\"name\"]\n",
    "        # ngram-char level - we choose max number of words equal to 30000 except all words (100k+ words)\n",
    "        tfidf_vect_ngram_char = TfidfVectorizer(analyzer='char', max_features=30000, ngram_range=(2, 3))\n",
    "        tfidf_vect_ngram_char.fit(x_train)\n",
    "        # assume that we don't have test set before\n",
    "        real_tfidf_ngram_char =  tfidf_vect_ngram_char.transform(real_x)\n",
    "        return real_tfidf_ngram_char\n",
    "    def predict_to_csv(self,real_x,real_y,file_path_export):\n",
    "        real_tfidf_ngram_char = self.preprocessing(real_x)\n",
    "        real_y = np.array(real_y.values, dtype = \"int\")\n",
    "        real_predictions = self.model.predict(real_tfidf_ngram_char)\n",
    "        real_predictions_proba = self.model.predict_proba(real_tfidf_ngram_char)\n",
    "        results = pd.DataFrame([real_x, real_y, real_predictions, real_predictions_proba[:,0]]).transpose()\n",
    "        results.columns = [\"name\", \"label\", \"Prediction result\", \"prob non_person\"]\n",
    "        results.to_csv(file_path_export)\n",
    "        f = open(file_path_export,'a',encoding=\"utf-8\")\n",
    "        f.write(\"Accuracy on real data: \"+ str(accuracy_score(real_predictions, real_y))+'\\n')\n",
    "        tn, fp, fn, tp = confusion_matrix(real_y, real_predictions).ravel()\n",
    "        tnr = tn/(tn + fp)\n",
    "        f.write((\"ACC non person name: %f\" % tnr)+'\\n')\n",
    "        tpr = tp / (tp + fn)\n",
    "        f.write((\"Acc person name: %f\" % tpr)+'\\n')\n",
    "        f.close()\n",
    "        return file_path_export\n",
    "    def predict_to_csv_non_statistic(self,real_x,file_path_export):\n",
    "        real_tfidf_ngram_char = self.preprocessing(real_x)\n",
    "        real_predictions = self.model.predict(real_tfidf_ngram_char)\n",
    "        real_predictions_proba = self.model.predict_proba(real_tfidf_ngram_char)\n",
    "        results = pd.DataFrame([real_x, real_predictions, real_predictions_proba[:,0]]).transpose()\n",
    "        results.columns = [\"name\", \"Prediction result\", \"prob non_person\"]\n",
    "        results.to_csv(file_path_export)\n",
    "        return file_path_export"
   ]
  },
  {
   "cell_type": "code",
   "execution_count": 5,
   "id": "2761da56",
   "metadata": {},
   "outputs": [],
   "source": [
    "import pickle\n",
    "import os\n",
    "import pandas as pd\n",
    "from sklearn.feature_extraction.text import TfidfVectorizer\n",
    "import numpy as np\n",
    "from unidecode import unidecode\n",
    "from sklearn.metrics import confusion_matrix,accuracy_score\n",
    "import xgboost as xgb\n",
    "\n",
    "def preprocessing(real_x):\n",
    "    data_train = pd.read_csv(\"data_train_moredata5.csv\")\n",
    "    x_train = data_train[\"name\"]\n",
    "    \n",
    "    tfidf_vect_ngram_char = TfidfVectorizer(analyzer='char', max_features=30000, ngram_range=(2, 3))\n",
    "    tfidf_vect_ngram_char.fit(x_train)\n",
    "    \n",
    "    real_tfidf_ngram_char =  tfidf_vect_ngram_char.transform(real_x)\n",
    "    return real_tfidf_ngram_char\n",
    "\n",
    "def predict_to_csv_non_statistic(real_x,file_path_export):\n",
    "    real_tfidf_ngram_char = preprocessing(real_x)\n",
    "    real_predictions = model.predict(real_tfidf_ngram_char)\n",
    "    real_predictions_proba = model.predict_proba(real_tfidf_ngram_char)\n",
    "    results = pd.DataFrame([real_x, real_predictions, real_predictions_proba[:,0]]).transpose()\n",
    "    results.columns = [\"name\", \"Prediction result\", \"prob non_person\"]\n",
    "    results.to_csv(file_path_export)\n",
    "    return file_path_export"
   ]
  },
  {
   "cell_type": "code",
   "execution_count": 6,
   "id": "b2613e2c",
   "metadata": {},
   "outputs": [],
   "source": [
    "model = xgb.XGBClassifier()\n",
    "model.load_model(\"best_model.h5\")\n",
    "\n",
    "\n",
    "\n",
    "# real_data = pd.read_excel('/home/trung/Documents/AI/name_classifier/name_classification/1.xlsx')\n",
    "\n",
    "\n",
    "# full_name = []\n",
    "# for i in real_data.index:\n",
    "#     print(\"processing\",i)\n",
    "#     try:\n",
    "#         full_name.append(unidecode(real_data['HOTEN'][i]).lower())\n",
    "#     except:\n",
    "#         print(\"error at \",i)\n",
    "#         real_data['name'][i] = 'error'\n",
    "#         full_name.append(unidecode(real_data[\"name\"][i]).lower())\n",
    "\n",
    "\n",
    "# real_data = pd.DataFrame([full_name])\n",
    "# real_data= real_data.transpose()\n",
    "# real_data.columns = [\"name\"]\n",
    "# real_x = real_data[\"name\"]\n",
    "# file_path_export = \"reslut_testing.csv\"\n",
    "# name_classification.predict_to_csv_non_statistic(\n",
    "#     real_x, file_path_export)\n",
    "\n",
    "\n"
   ]
  },
  {
   "cell_type": "code",
   "execution_count": 29,
   "id": "04d93ecb",
   "metadata": {},
   "outputs": [],
   "source": [
    "#rule-based\n",
    "rule_name = open('/home/trung/Documents/AI/name_classifier/name_classification/person','r')\n",
    "rule_name = rule_name.read()\n",
    "rule_name_list = rule_name.split(\"\\n\")\n",
    "del rule_name_list[-1]"
   ]
  },
  {
   "cell_type": "code",
   "execution_count": 31,
   "id": "f9841d2b",
   "metadata": {},
   "outputs": [
    {
     "data": {
      "text/plain": [
       "['nguyen',\n",
       " 'hoang',\n",
       " 'tran',\n",
       " 'dang',\n",
       " 'pham',\n",
       " 'giap',\n",
       " 'bach',\n",
       " 'ngoc',\n",
       " 'chau',\n",
       " 'dinh',\n",
       " 'huynh',\n",
       " 'le',\n",
       " 'nghiem',\n",
       " 'phung',\n",
       " 'ngo',\n",
       " 'linh',\n",
       " 'phan',\n",
       " 'do']"
      ]
     },
     "execution_count": 31,
     "metadata": {},
     "output_type": "execute_result"
    }
   ],
   "source": [
    "rule_name_list"
   ]
  },
  {
   "cell_type": "code",
   "execution_count": 32,
   "id": "ff566e84",
   "metadata": {},
   "outputs": [],
   "source": [
    "rule_no_name = open('/home/trung/Documents/AI/name_classifier/name_classification/non_person','r')\n",
    "rule_no_name = rule_no_name.read()\n",
    "rule_no_name_list = rule_no_name.split(\"\\n\")\n",
    "del rule_no_name_list[-1]"
   ]
  },
  {
   "cell_type": "code",
   "execution_count": 33,
   "id": "fb7b409b",
   "metadata": {},
   "outputs": [
    {
     "data": {
      "text/plain": [
       "['not used',\n",
       " 'notused',\n",
       " 'not use',\n",
       " 'notuse',\n",
       " 'noname',\n",
       " 'khong su dung',\n",
       " 'khongsu dung',\n",
       " 'khongsudung',\n",
       " 'khong sudung',\n",
       " 'trading']"
      ]
     },
     "execution_count": 33,
     "metadata": {},
     "output_type": "execute_result"
    }
   ],
   "source": [
    "rule_no_name_list"
   ]
  },
  {
   "cell_type": "code",
   "execution_count": 41,
   "id": "2b17d559",
   "metadata": {},
   "outputs": [
    {
     "data": {
      "text/html": [
       "<div>\n",
       "<style scoped>\n",
       "    .dataframe tbody tr th:only-of-type {\n",
       "        vertical-align: middle;\n",
       "    }\n",
       "\n",
       "    .dataframe tbody tr th {\n",
       "        vertical-align: top;\n",
       "    }\n",
       "\n",
       "    .dataframe thead th {\n",
       "        text-align: right;\n",
       "    }\n",
       "</style>\n",
       "<table border=\"1\" class=\"dataframe\">\n",
       "  <thead>\n",
       "    <tr style=\"text-align: right;\">\n",
       "      <th></th>\n",
       "      <th>Unnamed: 0</th>\n",
       "      <th>name</th>\n",
       "      <th>Prediction result</th>\n",
       "      <th>pro non_persion</th>\n",
       "    </tr>\n",
       "  </thead>\n",
       "  <tbody>\n",
       "    <tr>\n",
       "      <th>0</th>\n",
       "      <td>0</td>\n",
       "      <td>mai duc chien mai khac chien</td>\n",
       "      <td>0</td>\n",
       "      <td>0.500975</td>\n",
       "    </tr>\n",
       "    <tr>\n",
       "      <th>1</th>\n",
       "      <td>1</td>\n",
       "      <td>cao thi hien</td>\n",
       "      <td>1</td>\n",
       "      <td>0.002633</td>\n",
       "    </tr>\n",
       "    <tr>\n",
       "      <th>2</th>\n",
       "      <td>2</td>\n",
       "      <td>nguyen phuong nam</td>\n",
       "      <td>1</td>\n",
       "      <td>0.000860</td>\n",
       "    </tr>\n",
       "    <tr>\n",
       "      <th>3</th>\n",
       "      <td>3</td>\n",
       "      <td>nguyen thi my loc</td>\n",
       "      <td>1</td>\n",
       "      <td>0.005762</td>\n",
       "    </tr>\n",
       "    <tr>\n",
       "      <th>4</th>\n",
       "      <td>4</td>\n",
       "      <td>nguyen hoai phong</td>\n",
       "      <td>1</td>\n",
       "      <td>0.001746</td>\n",
       "    </tr>\n",
       "    <tr>\n",
       "      <th>...</th>\n",
       "      <td>...</td>\n",
       "      <td>...</td>\n",
       "      <td>...</td>\n",
       "      <td>...</td>\n",
       "    </tr>\n",
       "    <tr>\n",
       "      <th>9995</th>\n",
       "      <td>9995</td>\n",
       "      <td>bach thi hue</td>\n",
       "      <td>1</td>\n",
       "      <td>0.002922</td>\n",
       "    </tr>\n",
       "    <tr>\n",
       "      <th>9996</th>\n",
       "      <td>9996</td>\n",
       "      <td>ta kim ly</td>\n",
       "      <td>1</td>\n",
       "      <td>0.094044</td>\n",
       "    </tr>\n",
       "    <tr>\n",
       "      <th>9997</th>\n",
       "      <td>9997</td>\n",
       "      <td>pham minh anh</td>\n",
       "      <td>1</td>\n",
       "      <td>0.004048</td>\n",
       "    </tr>\n",
       "    <tr>\n",
       "      <th>9998</th>\n",
       "      <td>9998</td>\n",
       "      <td>hoang ngoc anh nhi</td>\n",
       "      <td>1</td>\n",
       "      <td>0.100574</td>\n",
       "    </tr>\n",
       "    <tr>\n",
       "      <th>9999</th>\n",
       "      <td>9999</td>\n",
       "      <td>trang ngoc dat</td>\n",
       "      <td>1</td>\n",
       "      <td>0.007969</td>\n",
       "    </tr>\n",
       "  </tbody>\n",
       "</table>\n",
       "<p>10000 rows × 4 columns</p>\n",
       "</div>"
      ],
      "text/plain": [
       "      Unnamed: 0                          name  Prediction result  \\\n",
       "0              0  mai duc chien mai khac chien                  0   \n",
       "1              1                  cao thi hien                  1   \n",
       "2              2             nguyen phuong nam                  1   \n",
       "3              3             nguyen thi my loc                  1   \n",
       "4              4             nguyen hoai phong                  1   \n",
       "...          ...                           ...                ...   \n",
       "9995        9995                  bach thi hue                  1   \n",
       "9996        9996                     ta kim ly                  1   \n",
       "9997        9997                 pham minh anh                  1   \n",
       "9998        9998            hoang ngoc anh nhi                  1   \n",
       "9999        9999                trang ngoc dat                  1   \n",
       "\n",
       "      pro non_persion  \n",
       "0            0.500975  \n",
       "1            0.002633  \n",
       "2            0.000860  \n",
       "3            0.005762  \n",
       "4            0.001746  \n",
       "...               ...  \n",
       "9995         0.002922  \n",
       "9996         0.094044  \n",
       "9997         0.004048  \n",
       "9998         0.100574  \n",
       "9999         0.007969  \n",
       "\n",
       "[10000 rows x 4 columns]"
      ]
     },
     "execution_count": 41,
     "metadata": {},
     "output_type": "execute_result"
    }
   ],
   "source": [
    "data = pd.read_csv(\"result_testing01.csv\")\n",
    "data"
   ]
  },
  {
   "cell_type": "code",
   "execution_count": 39,
   "id": "3de9de3c-9fee-45dc-9cfb-fa3427be4e27",
   "metadata": {},
   "outputs": [
    {
     "data": {
      "text/plain": [
       "False"
      ]
     },
     "execution_count": 39,
     "metadata": {},
     "output_type": "execute_result"
    }
   ],
   "source": [
    "def has_special_char(s):\n",
    "    for c in s:\n",
    "        if not (c.isalpha() or c == ' '):\n",
    "            return True\n",
    "    return False\n",
    "\n",
    "def has_one_word(s):\n",
    "    if \" \" not in s:\n",
    "        return True\n",
    "    return False\n",
    "\n",
    "s = \"hello world\"\n",
    "\n",
    "has_one_word(s)"
   ]
  },
  {
   "cell_type": "code",
   "execution_count": 43,
   "id": "45621b76",
   "metadata": {},
   "outputs": [
    {
     "name": "stderr",
     "output_type": "stream",
     "text": [
      "/tmp/ipykernel_6201/2430543777.py:6: SettingWithCopyWarning: \n",
      "A value is trying to be set on a copy of a slice from a DataFrame\n",
      "\n",
      "See the caveats in the documentation: https://pandas.pydata.org/pandas-docs/stable/user_guide/indexing.html#returning-a-view-versus-a-copy\n",
      "  data['Prediction result'][i] = 1\n",
      "/tmp/ipykernel_6201/2430543777.py:10: SettingWithCopyWarning: \n",
      "A value is trying to be set on a copy of a slice from a DataFrame\n",
      "\n",
      "See the caveats in the documentation: https://pandas.pydata.org/pandas-docs/stable/user_guide/indexing.html#returning-a-view-versus-a-copy\n",
      "  data['Prediction result'][i] = 0\n",
      "/tmp/ipykernel_6201/2430543777.py:13: SettingWithCopyWarning: \n",
      "A value is trying to be set on a copy of a slice from a DataFrame\n",
      "\n",
      "See the caveats in the documentation: https://pandas.pydata.org/pandas-docs/stable/user_guide/indexing.html#returning-a-view-versus-a-copy\n",
      "  data['Prediction result'][i] = 0\n"
     ]
    }
   ],
   "source": [
    "for i in range(len(data)):\n",
    "    if data['Prediction result'][i] == 0:\n",
    "        if data['pro non_persion'][i] > 0.5 and data['pro non_persion'][i] < 0.8:\n",
    "            for rule_name in rule_name_list:\n",
    "                if rule_name in data['name'][i]:\n",
    "                    data['Prediction result'][i] = 1\n",
    "\n",
    "    elif data['Prediction result'][i] == 1:\n",
    "        if has_special_char(data['name'][i]) == True or has_one_word(data['name'][i]) == True:\n",
    "            data['Prediction result'][i] = 0\n",
    "        for rule_no_name in rule_no_name_list:\n",
    "            if rule_no_name in data['name'][i]:\n",
    "                data['Prediction result'][i] = 0\n",
    "data.to_csv(\"op1.csv\")\n",
    "#end-rule_based"
   ]
  },
  {
   "cell_type": "code",
   "execution_count": 34,
   "id": "e01cb249-1861-426f-974a-7b1c371cc932",
   "metadata": {},
   "outputs": [],
   "source": [
    "results.to_csv(\"results_realdata_08122022_ver2_testing.csv\")"
   ]
  },
  {
   "cell_type": "code",
   "execution_count": 35,
   "id": "4871b17c-7a01-446f-ae54-4f5bc68899a6",
   "metadata": {},
   "outputs": [],
   "source": [
    "from keras.layers import *\n",
    "from keras.models import Model\n",
    "from tensorflow.keras import optimizers\n",
    "from tensorflow.keras.optimizers import Adam\n",
    "\n",
    "def create_dnn_model():\n",
    "    input_layer = Input(shape=(300,))\n",
    "    layer = Dense(512, activation='relu')(input_layer)\n",
    "    layer = Dense(216, activation='relu')(layer)\n",
    "    output_layer = Dense(2, activation='softmax')(layer)\n",
    "    \n",
    "    classifier = Model(input_layer, output_layer)\n",
    "    classifier.compile(optimizer=optimizers.Adam(), loss='sparse_categorical_crossentropy', metrics=['accuracy'])\n",
    "    \n",
    "    return classifier"
   ]
  },
  {
   "cell_type": "code",
   "execution_count": 36,
   "id": "10805e93-aad7-4e0b-b4c1-19d3dd20bd0f",
   "metadata": {},
   "outputs": [
    {
     "name": "stdout",
     "output_type": "stream",
     "text": [
      "Epoch 1/20\n",
      "85/85 [==============================] - 2s 14ms/step - loss: 0.1904 - accuracy: 0.9315 - val_loss: 0.0416 - val_accuracy: 0.9888\n",
      "Epoch 2/20\n",
      "85/85 [==============================] - 1s 12ms/step - loss: 0.0384 - accuracy: 0.9888 - val_loss: 0.0390 - val_accuracy: 0.9888\n",
      "Epoch 3/20\n",
      "85/85 [==============================] - 1s 11ms/step - loss: 0.0293 - accuracy: 0.9917 - val_loss: 0.0354 - val_accuracy: 0.9900\n",
      "Epoch 4/20\n",
      "85/85 [==============================] - 1s 11ms/step - loss: 0.0239 - accuracy: 0.9932 - val_loss: 0.0334 - val_accuracy: 0.9904\n",
      "Epoch 5/20\n",
      "85/85 [==============================] - 1s 11ms/step - loss: 0.0195 - accuracy: 0.9945 - val_loss: 0.0310 - val_accuracy: 0.9917\n",
      "Epoch 6/20\n",
      "85/85 [==============================] - 1s 11ms/step - loss: 0.0163 - accuracy: 0.9956 - val_loss: 0.0334 - val_accuracy: 0.9896\n",
      "Epoch 7/20\n",
      "85/85 [==============================] - 1s 11ms/step - loss: 0.0132 - accuracy: 0.9961 - val_loss: 0.0333 - val_accuracy: 0.9908\n",
      "Epoch 8/20\n",
      "85/85 [==============================] - 1s 12ms/step - loss: 0.0108 - accuracy: 0.9970 - val_loss: 0.0327 - val_accuracy: 0.9915\n",
      "Epoch 9/20\n",
      "85/85 [==============================] - 1s 14ms/step - loss: 0.0090 - accuracy: 0.9976 - val_loss: 0.0363 - val_accuracy: 0.9915\n",
      "Epoch 10/20\n",
      "85/85 [==============================] - 1s 14ms/step - loss: 0.0083 - accuracy: 0.9976 - val_loss: 0.0329 - val_accuracy: 0.9915\n",
      "Epoch 11/20\n",
      "85/85 [==============================] - 1s 12ms/step - loss: 0.0074 - accuracy: 0.9979 - val_loss: 0.0370 - val_accuracy: 0.9908\n",
      "Epoch 12/20\n",
      "85/85 [==============================] - 1s 11ms/step - loss: 0.0063 - accuracy: 0.9982 - val_loss: 0.0390 - val_accuracy: 0.9911\n",
      "Epoch 13/20\n",
      "85/85 [==============================] - 1s 11ms/step - loss: 0.0060 - accuracy: 0.9985 - val_loss: 0.0398 - val_accuracy: 0.9904\n",
      "Epoch 14/20\n",
      "85/85 [==============================] - 2s 19ms/step - loss: 0.0060 - accuracy: 0.9982 - val_loss: 0.0455 - val_accuracy: 0.9892\n",
      "Epoch 15/20\n",
      "85/85 [==============================] - 1s 15ms/step - loss: 0.0059 - accuracy: 0.9984 - val_loss: 0.0428 - val_accuracy: 0.9902\n",
      "Epoch 16/20\n",
      "85/85 [==============================] - 1s 18ms/step - loss: 0.0053 - accuracy: 0.9984 - val_loss: 0.0429 - val_accuracy: 0.9904\n",
      "Epoch 17/20\n",
      "85/85 [==============================] - 1s 14ms/step - loss: 0.0047 - accuracy: 0.9987 - val_loss: 0.0440 - val_accuracy: 0.9908\n",
      "Epoch 18/20\n",
      "85/85 [==============================] - 1s 13ms/step - loss: 0.0047 - accuracy: 0.9985 - val_loss: 0.0456 - val_accuracy: 0.9915\n",
      "Epoch 19/20\n",
      "85/85 [==============================] - 1s 11ms/step - loss: 0.0045 - accuracy: 0.9987 - val_loss: 0.0457 - val_accuracy: 0.9915\n",
      "Epoch 20/20\n",
      "85/85 [==============================] - 1s 11ms/step - loss: 0.0044 - accuracy: 0.9987 - val_loss: 0.0473 - val_accuracy: 0.9908\n",
      "1353/1353 [==============================] - 3s 2ms/step\n",
      "151/151 [==============================] - 0s 2ms/step\n",
      "376/376 [==============================] - 1s 2ms/step\n",
      "Confusion matrix, without normalization\n",
      "[[6832   57]\n",
      " [  60 5072]]\n"
     ]
    },
    {
     "data": {
      "image/png": "[encoded data removed]",
      "text/plain": [
       "<Figure size 640x480 with 2 Axes>"
      ]
     },
     "metadata": {},
     "output_type": "display_data"
    },
    {
     "name": "stdout",
     "output_type": "stream",
     "text": [
      "Độ chính xác trên tập huấn luyện:  0.9989600665557404\n",
      "Độ chính xác trên tập Validation:  0.9908485856905158\n",
      "Độ chính xác trên tập kiểm thử:  0.9902670326927876\n",
      "Tỷ lệ phát hiện không phải tên người: 0.991726\n",
      "Tỷ lệ phát hiện tên người: 0.988309\n"
     ]
    },
    {
     "data": {
      "text/plain": [
       "<keras.engine.functional.Functional at 0x7f87169d2cd0>"
      ]
     },
     "execution_count": 36,
     "metadata": {},
     "output_type": "execute_result"
    }
   ],
   "source": [
    "class_weight = {0: 1.0,\n",
    "                1: 1.0}\n",
    "classifier = create_dnn_model()\n",
    "train_model(classifier=classifier, X_data=X_data_tfidf_svd, y_data=y_data_n, X_test=X_test_tfidf_svd, y_test=y_test_n, is_neuralnet=True, n_epochs=20)"
   ]
  },
  {
   "cell_type": "code",
   "execution_count": 37,
   "id": "3ab8b904-d2a7-4492-b3dd-6994463a6409",
   "metadata": {},
   "outputs": [],
   "source": [
    "## LSTM model\n",
    "def create_lstm_model():\n",
    "    input_layer = Input(shape=(300,))\n",
    "    \n",
    "    layer = Reshape((10, 30))(input_layer)\n",
    "    layer = LSTM(128, activation='relu')(layer)\n",
    "    layer = Dense(512, activation='relu')(layer)\n",
    "    layer = Dense(128, activation='relu')(layer)\n",
    "    \n",
    "    output_layer = Dense(2, activation='softmax')(layer)\n",
    "    \n",
    "    classifier = Model(input_layer, output_layer)\n",
    "    \n",
    "    classifier.compile(optimizer=optimizers.Adam(), loss='sparse_categorical_crossentropy', metrics=['accuracy'])\n",
    "    \n",
    "    return classifier"
   ]
  },
  {
   "cell_type": "code",
   "execution_count": 38,
   "id": "5267e0ca-5ab3-43c2-a332-591be0233cc1",
   "metadata": {},
   "outputs": [
    {
     "name": "stdout",
     "output_type": "stream",
     "text": [
      "Epoch 1/20\n",
      "85/85 [==============================] - 8s 70ms/step - loss: 0.4820 - accuracy: 0.7520 - val_loss: 0.1911 - val_accuracy: 0.9324\n",
      "Epoch 2/20\n",
      "85/85 [==============================] - 6s 74ms/step - loss: 0.1292 - accuracy: 0.9539 - val_loss: 0.1947 - val_accuracy: 0.9218\n",
      "Epoch 3/20\n",
      "85/85 [==============================] - 6s 70ms/step - loss: 0.0902 - accuracy: 0.9683 - val_loss: 0.0792 - val_accuracy: 0.9755\n",
      "Epoch 4/20\n",
      "85/85 [==============================] - 5s 62ms/step - loss: 0.0692 - accuracy: 0.9770 - val_loss: 0.0799 - val_accuracy: 0.9725\n",
      "Epoch 5/20\n",
      "85/85 [==============================] - 5s 61ms/step - loss: 0.0622 - accuracy: 0.9791 - val_loss: 0.0560 - val_accuracy: 0.9832\n",
      "Epoch 6/20\n",
      "85/85 [==============================] - 5s 61ms/step - loss: 0.0539 - accuracy: 0.9825 - val_loss: 0.0556 - val_accuracy: 0.9834\n",
      "Epoch 7/20\n",
      "85/85 [==============================] - 8s 89ms/step - loss: 0.0455 - accuracy: 0.9859 - val_loss: 0.0496 - val_accuracy: 0.9856\n",
      "Epoch 8/20\n",
      "85/85 [==============================] - 6s 67ms/step - loss: 0.0457 - accuracy: 0.9855 - val_loss: 0.0519 - val_accuracy: 0.9848\n",
      "Epoch 9/20\n",
      "85/85 [==============================] - 5s 61ms/step - loss: 0.0381 - accuracy: 0.9881 - val_loss: 0.0455 - val_accuracy: 0.9871\n",
      "Epoch 10/20\n",
      "85/85 [==============================] - 5s 61ms/step - loss: 0.0353 - accuracy: 0.9887 - val_loss: 0.0552 - val_accuracy: 0.9832\n",
      "Epoch 11/20\n",
      "85/85 [==============================] - 6s 71ms/step - loss: 0.0326 - accuracy: 0.9900 - val_loss: 0.0400 - val_accuracy: 0.9879\n",
      "Epoch 12/20\n",
      "85/85 [==============================] - 7s 88ms/step - loss: 0.0298 - accuracy: 0.9913 - val_loss: 0.0426 - val_accuracy: 0.9881\n",
      "Epoch 13/20\n",
      "85/85 [==============================] - 5s 63ms/step - loss: 0.0292 - accuracy: 0.9910 - val_loss: 0.0442 - val_accuracy: 0.9879\n",
      "Epoch 14/20\n",
      "85/85 [==============================] - 5s 61ms/step - loss: 0.0304 - accuracy: 0.9903 - val_loss: 0.0451 - val_accuracy: 0.9879\n",
      "Epoch 15/20\n",
      "85/85 [==============================] - 6s 71ms/step - loss: 0.0276 - accuracy: 0.9914 - val_loss: 0.0428 - val_accuracy: 0.9884\n",
      "Epoch 16/20\n",
      "85/85 [==============================] - 6s 74ms/step - loss: 0.0238 - accuracy: 0.9926 - val_loss: 0.0520 - val_accuracy: 0.9852\n",
      "Epoch 17/20\n",
      "85/85 [==============================] - 6s 68ms/step - loss: 0.0361 - accuracy: 0.9881 - val_loss: 0.0450 - val_accuracy: 0.9894\n",
      "Epoch 18/20\n",
      "85/85 [==============================] - 5s 62ms/step - loss: 0.0234 - accuracy: 0.9929 - val_loss: 0.0397 - val_accuracy: 0.9890\n",
      "Epoch 19/20\n",
      "85/85 [==============================] - 5s 61ms/step - loss: 0.0221 - accuracy: 0.9933 - val_loss: 0.0495 - val_accuracy: 0.9879\n",
      "Epoch 20/20\n",
      "85/85 [==============================] - 6s 73ms/step - loss: 0.0213 - accuracy: 0.9935 - val_loss: 0.0475 - val_accuracy: 0.9877\n",
      "1353/1353 [==============================] - 10s 7ms/step\n",
      "151/151 [==============================] - 1s 7ms/step\n",
      "376/376 [==============================] - 3s 7ms/step\n",
      "Confusion matrix, without normalization\n",
      "[[6832   57]\n",
      " [ 126 5006]]\n"
     ]
    },
    {
     "data": {
      "image/png": "[encoded data removed]",
      "text/plain": [
       "<Figure size 640x480 with 2 Axes>"
      ]
     },
     "metadata": {},
     "output_type": "display_data"
    },
    {
     "name": "stdout",
     "output_type": "stream",
     "text": [
      "Độ chính xác trên tập huấn luyện:  0.9937141800702533\n",
      "Độ chính xác trên tập Validation:  0.9877287853577371\n",
      "Độ chính xác trên tập kiểm thử:  0.9847766408784627\n",
      "Tỷ lệ phát hiện không phải tên người: 0.991726\n",
      "Tỷ lệ phát hiện tên người: 0.975448\n"
     ]
    },
    {
     "data": {
      "text/plain": [
       "<keras.engine.functional.Functional at 0x7f8739f5c580>"
      ]
     },
     "execution_count": 38,
     "metadata": {},
     "output_type": "execute_result"
    }
   ],
   "source": [
    "classifier = create_lstm_model()\n",
    "train_model(classifier=classifier, X_data=X_data_tfidf_svd, y_data=y_data_n, X_test=X_test_tfidf_svd, y_test=y_test_n, is_neuralnet=True,n_epochs=20)"
   ]
  },
  {
   "cell_type": "code",
   "execution_count": 39,
   "id": "e3e2fc38-e7eb-4103-be7b-0dad0464e9e8",
   "metadata": {},
   "outputs": [],
   "source": [
    "# GRU model\n",
    "def create_gru_model():\n",
    "    input_layer = Input(shape=(300,))\n",
    "    \n",
    "    layer = Reshape((10, 30))(input_layer)\n",
    "    layer = GRU(128, activation='relu')(layer)\n",
    "    layer = Dense(512, activation='relu')(layer)\n",
    "    layer = Dense(128, activation='relu')(layer)\n",
    "    \n",
    "    output_layer = Dense(2, activation='softmax')(layer)\n",
    "    \n",
    "    classifier = Model(input_layer, output_layer)\n",
    "    \n",
    "    classifier.compile(optimizer=optimizers.Adam(), loss='sparse_categorical_crossentropy', metrics=['accuracy'])\n",
    "    \n",
    "    return classifier"
   ]
  },
  {
   "cell_type": "code",
   "execution_count": 40,
   "id": "2cb8ff7c-d5f6-41b0-b3c7-9163649e41fc",
   "metadata": {},
   "outputs": [
    {
     "name": "stdout",
     "output_type": "stream",
     "text": [
      "Epoch 1/20\n",
      "85/85 [==============================] - 8s 70ms/step - loss: 0.6067 - accuracy: 0.6524 - val_loss: 0.4292 - val_accuracy: 0.8203\n",
      "Epoch 2/20\n",
      "85/85 [==============================] - 6s 67ms/step - loss: 0.2222 - accuracy: 0.9161 - val_loss: 0.1359 - val_accuracy: 0.9563\n",
      "Epoch 3/20\n",
      "85/85 [==============================] - 5s 56ms/step - loss: 0.1068 - accuracy: 0.9650 - val_loss: 0.0841 - val_accuracy: 0.9730\n",
      "Epoch 4/20\n",
      "85/85 [==============================] - 4s 53ms/step - loss: 0.0789 - accuracy: 0.9740 - val_loss: 0.1270 - val_accuracy: 0.9590\n",
      "Epoch 5/20\n",
      "85/85 [==============================] - 4s 53ms/step - loss: 0.0707 - accuracy: 0.9771 - val_loss: 0.0644 - val_accuracy: 0.9800\n",
      "Epoch 6/20\n",
      "85/85 [==============================] - 5s 60ms/step - loss: 0.0572 - accuracy: 0.9822 - val_loss: 0.0912 - val_accuracy: 0.9669\n",
      "Epoch 7/20\n",
      "85/85 [==============================] - 5s 59ms/step - loss: 0.0599 - accuracy: 0.9809 - val_loss: 0.0551 - val_accuracy: 0.9840\n",
      "Epoch 8/20\n",
      "85/85 [==============================] - 5s 54ms/step - loss: 0.0489 - accuracy: 0.9852 - val_loss: 0.0543 - val_accuracy: 0.9834\n",
      "Epoch 9/20\n",
      "85/85 [==============================] - 5s 63ms/step - loss: 0.0483 - accuracy: 0.9850 - val_loss: 0.0506 - val_accuracy: 0.9867\n",
      "Epoch 10/20\n",
      "85/85 [==============================] - 5s 53ms/step - loss: 0.0404 - accuracy: 0.9879 - val_loss: 0.0484 - val_accuracy: 0.9852\n",
      "Epoch 11/20\n",
      "85/85 [==============================] - 5s 60ms/step - loss: 0.0410 - accuracy: 0.9869 - val_loss: 0.0594 - val_accuracy: 0.9802\n",
      "Epoch 12/20\n",
      "85/85 [==============================] - 6s 65ms/step - loss: 0.0342 - accuracy: 0.9896 - val_loss: 0.0475 - val_accuracy: 0.9865\n",
      "Epoch 13/20\n",
      "85/85 [==============================] - 5s 53ms/step - loss: 0.0361 - accuracy: 0.9885 - val_loss: 0.0484 - val_accuracy: 0.9859\n",
      "Epoch 14/20\n",
      "85/85 [==============================] - 5s 59ms/step - loss: 0.0387 - accuracy: 0.9874 - val_loss: 0.0417 - val_accuracy: 0.9879\n",
      "Epoch 15/20\n",
      "85/85 [==============================] - 6s 65ms/step - loss: 0.0291 - accuracy: 0.9914 - val_loss: 0.0485 - val_accuracy: 0.9861\n",
      "Epoch 16/20\n",
      "85/85 [==============================] - 5s 55ms/step - loss: 0.0306 - accuracy: 0.9903 - val_loss: 0.0456 - val_accuracy: 0.9869\n",
      "Epoch 17/20\n",
      "85/85 [==============================] - 5s 59ms/step - loss: 0.0276 - accuracy: 0.9914 - val_loss: 0.0472 - val_accuracy: 0.9859\n",
      "Epoch 18/20\n",
      "85/85 [==============================] - 4s 53ms/step - loss: 0.0287 - accuracy: 0.9913 - val_loss: 0.0481 - val_accuracy: 0.9871\n",
      "Epoch 19/20\n",
      "85/85 [==============================] - 5s 56ms/step - loss: 0.0264 - accuracy: 0.9919 - val_loss: 0.0442 - val_accuracy: 0.9884\n",
      "Epoch 20/20\n",
      "85/85 [==============================] - 6s 70ms/step - loss: 0.0311 - accuracy: 0.9903 - val_loss: 0.0486 - val_accuracy: 0.9886\n",
      "1353/1353 [==============================] - 8s 6ms/step\n",
      "151/151 [==============================] - 1s 6ms/step\n",
      "376/376 [==============================] - 2s 6ms/step\n",
      "Confusion matrix, without normalization\n",
      "[[6808   81]\n",
      " [  99 5033]]\n"
     ]
    },
    {
     "data": {
      "image/png": "[encoded data removed]",
      "text/plain": [
       "<Figure size 640x480 with 2 Axes>"
      ]
     },
     "metadata": {},
     "output_type": "display_data"
    },
    {
     "name": "stdout",
     "output_type": "stream",
     "text": [
      "Độ chính xác trên tập huấn luyện:  0.9923507117766686\n",
      "Độ chính xác trên tập Validation:  0.9885607321131448\n",
      "Độ chính xác trên tập kiểm thử:  0.9850262041427502\n",
      "Tỷ lệ phát hiện không phải tên người: 0.988242\n",
      "Tỷ lệ phát hiện tên người: 0.980709\n"
     ]
    },
    {
     "data": {
      "text/plain": [
       "<keras.engine.functional.Functional at 0x7f873a116d60>"
      ]
     },
     "execution_count": 40,
     "metadata": {},
     "output_type": "execute_result"
    }
   ],
   "source": [
    "classifier = create_gru_model()\n",
    "train_model(classifier=classifier, X_data=X_data_tfidf_svd, y_data=y_data_n, X_test=X_test_tfidf_svd, y_test=y_test_n, is_neuralnet=True, n_epochs=20)"
   ]
  },
  {
   "cell_type": "code",
   "execution_count": 41,
   "id": "af8c22b5-29c1-4069-99f8-9a47b16aa5f2",
   "metadata": {},
   "outputs": [],
   "source": [
    "# Bidirectional RNN model\n",
    "def create_brnn_model():\n",
    "    input_layer = Input(shape=(300,))\n",
    "    \n",
    "    layer = Reshape((10, 30))(input_layer)\n",
    "    layer = Bidirectional(GRU(128, activation='relu'))(layer)\n",
    "    layer = Dense(512, activation='relu')(layer)\n",
    "    layer = Dense(128, activation='relu')(layer)\n",
    "    \n",
    "    output_layer = Dense(2, activation='softmax')(layer)\n",
    "    \n",
    "    classifier = Model(input_layer, output_layer)\n",
    "    \n",
    "    classifier.compile(optimizer=optimizers.Adam(), loss='sparse_categorical_crossentropy', metrics=['accuracy'])\n",
    "    \n",
    "    return classifier"
   ]
  },
  {
   "cell_type": "code",
   "execution_count": 42,
   "id": "ea94a0c9-0c40-4819-b32b-2c10ac08a536",
   "metadata": {},
   "outputs": [
    {
     "name": "stdout",
     "output_type": "stream",
     "text": [
      "Epoch 1/20\n",
      "85/85 [==============================] - 12s 103ms/step - loss: 0.3348 - accuracy: 0.8552 - val_loss: 0.2462 - val_accuracy: 0.8975\n",
      "Epoch 2/20\n",
      "85/85 [==============================] - 7s 87ms/step - loss: 0.1045 - accuracy: 0.9634 - val_loss: 0.0796 - val_accuracy: 0.9711\n",
      "Epoch 3/20\n",
      "85/85 [==============================] - 6s 72ms/step - loss: 0.0560 - accuracy: 0.9821 - val_loss: 0.0502 - val_accuracy: 0.9834\n",
      "Epoch 4/20\n",
      "85/85 [==============================] - 7s 78ms/step - loss: 0.0431 - accuracy: 0.9871 - val_loss: 0.0419 - val_accuracy: 0.9875\n",
      "Epoch 5/20\n",
      "85/85 [==============================] - 7s 78ms/step - loss: 0.0393 - accuracy: 0.9880 - val_loss: 0.0403 - val_accuracy: 0.9881\n",
      "Epoch 6/20\n",
      "85/85 [==============================] - 7s 86ms/step - loss: 0.0324 - accuracy: 0.9906 - val_loss: 0.0487 - val_accuracy: 0.9834\n",
      "Epoch 7/20\n",
      "85/85 [==============================] - 7s 88ms/step - loss: 0.0304 - accuracy: 0.9912 - val_loss: 0.0373 - val_accuracy: 0.9894\n",
      "Epoch 8/20\n",
      "85/85 [==============================] - 6s 72ms/step - loss: 0.0287 - accuracy: 0.9917 - val_loss: 0.0392 - val_accuracy: 0.9888\n",
      "Epoch 9/20\n",
      "85/85 [==============================] - 7s 84ms/step - loss: 0.0267 - accuracy: 0.9922 - val_loss: 0.0330 - val_accuracy: 0.9906\n",
      "Epoch 10/20\n",
      "85/85 [==============================] - 7s 87ms/step - loss: 0.0255 - accuracy: 0.9929 - val_loss: 0.0363 - val_accuracy: 0.9898\n",
      "Epoch 11/20\n",
      "85/85 [==============================] - 8s 98ms/step - loss: 0.0225 - accuracy: 0.9938 - val_loss: 0.0328 - val_accuracy: 0.9904\n",
      "Epoch 12/20\n",
      "85/85 [==============================] - 6s 73ms/step - loss: 0.0214 - accuracy: 0.9942 - val_loss: 0.0328 - val_accuracy: 0.9911\n",
      "Epoch 13/20\n",
      "85/85 [==============================] - 6s 72ms/step - loss: 0.0226 - accuracy: 0.9932 - val_loss: 0.0347 - val_accuracy: 0.9904\n",
      "Epoch 14/20\n",
      "85/85 [==============================] - 8s 98ms/step - loss: 0.0204 - accuracy: 0.9940 - val_loss: 0.0364 - val_accuracy: 0.9888\n",
      "Epoch 15/20\n",
      "85/85 [==============================] - 6s 72ms/step - loss: 0.0197 - accuracy: 0.9942 - val_loss: 0.0299 - val_accuracy: 0.9919\n",
      "Epoch 16/20\n",
      "85/85 [==============================] - 9s 101ms/step - loss: 0.0176 - accuracy: 0.9952 - val_loss: 0.0330 - val_accuracy: 0.9921\n",
      "Epoch 17/20\n",
      "85/85 [==============================] - 6s 72ms/step - loss: 0.0167 - accuracy: 0.9953 - val_loss: 0.0331 - val_accuracy: 0.9915\n",
      "Epoch 18/20\n",
      "85/85 [==============================] - 7s 83ms/step - loss: 0.0163 - accuracy: 0.9955 - val_loss: 0.0365 - val_accuracy: 0.9890\n",
      "Epoch 19/20\n",
      "85/85 [==============================] - 6s 73ms/step - loss: 0.0221 - accuracy: 0.9928 - val_loss: 0.0367 - val_accuracy: 0.9900\n",
      "Epoch 20/20\n",
      "85/85 [==============================] - 7s 87ms/step - loss: 0.0181 - accuracy: 0.9941 - val_loss: 0.0324 - val_accuracy: 0.9923\n",
      "1353/1353 [==============================] - 10s 7ms/step\n",
      "151/151 [==============================] - 1s 6ms/step\n",
      "376/376 [==============================] - 2s 6ms/step\n",
      "Confusion matrix, without normalization\n",
      "[[6827   62]\n",
      " [  58 5074]]\n"
     ]
    },
    {
     "data": {
      "image/png": "[encoded data removed]",
      "text/plain": [
       "<Figure size 640x480 with 2 Axes>"
      ]
     },
     "metadata": {},
     "output_type": "display_data"
    },
    {
     "name": "stdout",
     "output_type": "stream",
     "text": [
      "Độ chính xác trên tập huấn luyện:  0.9963024588648549\n",
      "Độ chính xác trên tập Validation:  0.9923044925124792\n",
      "Độ chính xác trên tập kiểm thử:  0.9900174694285001\n",
      "Tỷ lệ phát hiện không phải tên người: 0.991000\n",
      "Tỷ lệ phát hiện tên người: 0.988698\n"
     ]
    },
    {
     "data": {
      "text/plain": [
       "<keras.engine.functional.Functional at 0x7f86d17adfd0>"
      ]
     },
     "execution_count": 42,
     "metadata": {},
     "output_type": "execute_result"
    }
   ],
   "source": [
    "classifier = create_brnn_model()\n",
    "train_model(classifier=classifier, X_data=X_data_tfidf_svd, y_data=y_data_n, X_test=X_test_tfidf_svd, y_test=y_test_n, is_neuralnet=True, n_epochs=20)"
   ]
  },
  {
   "cell_type": "code",
   "execution_count": 43,
   "id": "4fa3ba83-baa9-4474-b46a-d15209077abf",
   "metadata": {},
   "outputs": [],
   "source": [
    "# Recurrent Convolutional Neural Network\n",
    "def create_rcnn_model():\n",
    "    input_layer = Input(shape=(300,))\n",
    "    \n",
    "    layer = Reshape((10, 30))(input_layer)\n",
    "    layer = Bidirectional(GRU(128, activation='relu', return_sequences=True))(layer)    \n",
    "    layer = Convolution1D(100, 3, activation=\"relu\")(layer)\n",
    "    layer = Flatten()(layer)\n",
    "    layer = Dense(512, activation='relu')(layer)\n",
    "    layer = Dense(128, activation='relu')(layer)\n",
    "    \n",
    "    output_layer = Dense(2, activation='softmax')(layer)\n",
    "    \n",
    "    classifier = Model(input_layer, output_layer)\n",
    "    classifier.summary()\n",
    "    classifier.compile(optimizer=optimizers.Adam(), loss='sparse_categorical_crossentropy', metrics=['accuracy'])\n",
    "    \n",
    "    return classifier"
   ]
  },
  {
   "cell_type": "code",
   "execution_count": 44,
   "id": "4dd2c1f3-f7c5-4063-ad3c-37c4ac947b17",
   "metadata": {},
   "outputs": [
    {
     "name": "stdout",
     "output_type": "stream",
     "text": [
      "Model: \"model_4\"\n",
      "_________________________________________________________________\n",
      " Layer (type)                Output Shape              Param #   \n",
      "=================================================================\n",
      " input_5 (InputLayer)        [(None, 300)]             0         \n",
      "                                                                 \n",
      " reshape_3 (Reshape)         (None, 10, 30)            0         \n",
      "                                                                 \n",
      " bidirectional_1 (Bidirectio  (None, 10, 256)          122880    \n",
      " nal)                                                            \n",
      "                                                                 \n",
      " conv1d (Conv1D)             (None, 8, 100)            76900     \n",
      "                                                                 \n",
      " flatten (Flatten)           (None, 800)               0         \n",
      "                                                                 \n",
      " dense_12 (Dense)            (None, 512)               410112    \n",
      "                                                                 \n",
      " dense_13 (Dense)            (None, 128)               65664     \n",
      "                                                                 \n",
      " dense_14 (Dense)            (None, 2)                 258       \n",
      "                                                                 \n",
      "=================================================================\n",
      "Total params: 675,814\n",
      "Trainable params: 675,814\n",
      "Non-trainable params: 0\n",
      "_________________________________________________________________\n",
      "Epoch 1/20\n",
      "85/85 [==============================] - 16s 150ms/step - loss: 0.2280 - accuracy: 0.9029 - val_loss: 0.0796 - val_accuracy: 0.9746\n",
      "Epoch 2/20\n",
      "85/85 [==============================] - 9s 103ms/step - loss: 0.0557 - accuracy: 0.9825 - val_loss: 0.0483 - val_accuracy: 0.9869\n",
      "Epoch 3/20\n",
      "85/85 [==============================] - 10s 120ms/step - loss: 0.0439 - accuracy: 0.9873 - val_loss: 0.0394 - val_accuracy: 0.9894\n",
      "Epoch 4/20\n",
      "85/85 [==============================] - 11s 131ms/step - loss: 0.0332 - accuracy: 0.9904 - val_loss: 0.0365 - val_accuracy: 0.9892\n",
      "Epoch 5/20\n",
      "85/85 [==============================] - 9s 101ms/step - loss: 0.0327 - accuracy: 0.9901 - val_loss: 0.0333 - val_accuracy: 0.9896\n",
      "Epoch 6/20\n",
      "85/85 [==============================] - 10s 121ms/step - loss: 0.0270 - accuracy: 0.9921 - val_loss: 0.0338 - val_accuracy: 0.9900\n",
      "Epoch 7/20\n",
      "85/85 [==============================] - 11s 135ms/step - loss: 0.0251 - accuracy: 0.9930 - val_loss: 0.0318 - val_accuracy: 0.9911\n",
      "Epoch 8/20\n",
      "85/85 [==============================] - 10s 112ms/step - loss: 0.0229 - accuracy: 0.9934 - val_loss: 0.0313 - val_accuracy: 0.9913\n",
      "Epoch 9/20\n",
      "85/85 [==============================] - 10s 115ms/step - loss: 0.0216 - accuracy: 0.9937 - val_loss: 0.0334 - val_accuracy: 0.9904\n",
      "Epoch 10/20\n",
      "85/85 [==============================] - 11s 124ms/step - loss: 0.0202 - accuracy: 0.9940 - val_loss: 0.0310 - val_accuracy: 0.9911\n",
      "Epoch 11/20\n",
      "85/85 [==============================] - 10s 118ms/step - loss: 0.0200 - accuracy: 0.9939 - val_loss: 0.0316 - val_accuracy: 0.9906\n",
      "Epoch 12/20\n",
      "85/85 [==============================] - 10s 121ms/step - loss: 0.0202 - accuracy: 0.9938 - val_loss: 0.0319 - val_accuracy: 0.9908\n",
      "Epoch 13/20\n",
      "85/85 [==============================] - 10s 115ms/step - loss: 0.0186 - accuracy: 0.9942 - val_loss: 0.0334 - val_accuracy: 0.9915\n",
      "Epoch 14/20\n",
      "85/85 [==============================] - 10s 117ms/step - loss: 0.0160 - accuracy: 0.9952 - val_loss: 0.0310 - val_accuracy: 0.9919\n",
      "Epoch 15/20\n",
      "85/85 [==============================] - 10s 120ms/step - loss: 0.0153 - accuracy: 0.9954 - val_loss: 0.0312 - val_accuracy: 0.9915\n",
      "Epoch 16/20\n",
      "85/85 [==============================] - 10s 121ms/step - loss: 0.0141 - accuracy: 0.9958 - val_loss: 0.0369 - val_accuracy: 0.9906\n",
      "Epoch 17/20\n",
      "85/85 [==============================] - 10s 118ms/step - loss: 0.0139 - accuracy: 0.9957 - val_loss: 0.0344 - val_accuracy: 0.9917\n",
      "Epoch 18/20\n",
      "85/85 [==============================] - 11s 135ms/step - loss: 0.0145 - accuracy: 0.9955 - val_loss: 0.0370 - val_accuracy: 0.9896\n",
      "Epoch 19/20\n",
      "85/85 [==============================] - 10s 118ms/step - loss: 0.0155 - accuracy: 0.9950 - val_loss: 0.0283 - val_accuracy: 0.9915\n",
      "Epoch 20/20\n",
      "85/85 [==============================] - 10s 116ms/step - loss: 0.0125 - accuracy: 0.9962 - val_loss: 0.0324 - val_accuracy: 0.9911\n",
      "1353/1353 [==============================] - 11s 8ms/step\n",
      "151/151 [==============================] - 1s 7ms/step\n",
      "376/376 [==============================] - 3s 8ms/step\n",
      "Confusion matrix, without normalization\n",
      "[[6804   85]\n",
      " [  47 5085]]\n"
     ]
    },
    {
     "data": {
      "image/png": "[encoded data removed]",
      "text/plain": [
       "<Figure size 640x480 with 2 Axes>"
      ]
     },
     "metadata": {},
     "output_type": "display_data"
    },
    {
     "name": "stdout",
     "output_type": "stream",
     "text": [
      "Độ chính xác trên tập huấn luyện:  0.9967184322425587\n",
      "Độ chính xác trên tập Validation:  0.9910565723793677\n",
      "Độ chính xác trên tập kiểm thử:  0.9890192163713502\n",
      "Tỷ lệ phát hiện không phải tên người: 0.987661\n",
      "Tỷ lệ phát hiện tên người: 0.990842\n"
     ]
    },
    {
     "data": {
      "text/plain": [
       "<keras.engine.functional.Functional at 0x7f86d153ca60>"
      ]
     },
     "execution_count": 44,
     "metadata": {},
     "output_type": "execute_result"
    }
   ],
   "source": [
    "classifier = create_rcnn_model()\n",
    "train_model(classifier=classifier, X_data=X_data_tfidf_svd, y_data=y_data_n, X_test=X_test_tfidf_svd, y_test=y_test_n, is_neuralnet=True, n_epochs=20)"
   ]
  },
  {
   "cell_type": "code",
   "execution_count": 45,
   "id": "876cccb4-6584-4f36-b84e-0b32e11c075c",
   "metadata": {},
   "outputs": [
    {
     "name": "stderr",
     "output_type": "stream",
     "text": [
      "100%|██████████| 48080/48080 [00:00<00:00, 57686.93it/s] \n"
     ]
    }
   ],
   "source": [
    "# Doc2Vec Model\n",
    "\n",
    "def get_corpus(documents):\n",
    "    corpus = []\n",
    "    \n",
    "    for i in tqdm(range(len(documents))):\n",
    "        doc = documents[i]\n",
    "        \n",
    "        words = doc.split(' ')\n",
    "        tagged_document = gensim.models.doc2vec.TaggedDocument(words, [i])\n",
    "        \n",
    "        corpus.append(tagged_document)\n",
    "        \n",
    "    return corpus\n",
    "train_corpus = get_corpus(x_train)"
   ]
  },
  {
   "cell_type": "code",
   "execution_count": 46,
   "id": "3b1efd72-8f85-43f8-abca-fa2492b9d6b1",
   "metadata": {},
   "outputs": [
    {
     "name": "stderr",
     "output_type": "stream",
     "text": [
      "100%|██████████| 12021/12021 [00:00<00:00, 115808.39it/s]\n"
     ]
    }
   ],
   "source": [
    "test_corpus = get_corpus(x_test)"
   ]
  },
  {
   "cell_type": "code",
   "execution_count": 47,
   "id": "3db66aa3-97de-4644-9654-2f0a174727e2",
   "metadata": {},
   "outputs": [],
   "source": [
    "model = gensim.models.doc2vec.Doc2Vec(vector_size=300, min_count=2, epochs=40)\n",
    "model.build_vocab(train_corpus)"
   ]
  },
  {
   "cell_type": "code",
   "execution_count": 48,
   "id": "4f76a11f-5630-4ae4-bf0d-bc85504bd8ab",
   "metadata": {},
   "outputs": [
    {
     "name": "stdout",
     "output_type": "stream",
     "text": [
      "CPU times: user 2min 47s, sys: 31.7 s, total: 3min 19s\n",
      "Wall time: 2min 44s\n"
     ]
    }
   ],
   "source": [
    "%time model.train(train_corpus, total_examples=model.corpus_count, epochs=model.epochs)"
   ]
  },
  {
   "cell_type": "code",
   "execution_count": 49,
   "id": "f27da398-c52e-404c-952e-22b21646af89",
   "metadata": {},
   "outputs": [],
   "source": [
    "X_data_vectors = []\n",
    "for x in train_corpus:\n",
    "    vector = model.infer_vector(x.words)\n",
    "    X_data_vectors.append(vector)\n",
    "    \n",
    "X_test_vectors = []\n",
    "for x in test_corpus:\n",
    "    vector = model.infer_vector(x.words)\n",
    "    X_test_vectors.append(vector)"
   ]
  },
  {
   "cell_type": "code",
   "execution_count": 50,
   "id": "5e5bbcc0-b596-40b7-bb9c-5c54126de5e8",
   "metadata": {},
   "outputs": [
    {
     "name": "stderr",
     "output_type": "stream",
     "text": [
      "/home/haipn/.conda/envs/hai-gpu/lib/python3.9/site-packages/sklearn/utils/deprecation.py:87: FutureWarning: Function plot_confusion_matrix is deprecated; Function `plot_confusion_matrix` is deprecated in 1.0 and will be removed in 1.2. Use one of the class methods: ConfusionMatrixDisplay.from_predictions or ConfusionMatrixDisplay.from_estimator.\n",
      "  warnings.warn(msg, category=FutureWarning)\n"
     ]
    },
    {
     "data": {
      "image/png": "[encoded data removed]",
      "text/plain": [
       "<Figure size 640x480 with 2 Axes>"
      ]
     },
     "metadata": {},
     "output_type": "display_data"
    },
    {
     "name": "stdout",
     "output_type": "stream",
     "text": [
      "Độ chính xác trên tập huấn luyện:  0.997712146422629\n",
      "Độ chính xác trên tập Validation:  0.9571547420965059\n",
      "Độ chính xác trên tập kiểm thử:  0.9623991348473505\n",
      "Tỷ lệ phát hiện không phải tên người: 0.967484\n",
      "Tỷ lệ phát hiện tên người: 0.955573\n"
     ]
    },
    {
     "data": {
      "text/html": [
       "<style>#sk-container-id-8 {color: black;background-color: white;}#sk-container-id-8 pre{padding: 0;}#sk-container-id-8 div.sk-toggleable {background-color: white;}#sk-container-id-8 label.sk-toggleable__label {cursor: pointer;display: block;width: 100%;margin-bottom: 0;padding: 0.3em;box-sizing: border-box;text-align: center;}#sk-container-id-8 label.sk-toggleable__label-arrow:before {content: \"▸\";float: left;margin-right: 0.25em;color: #696969;}#sk-container-id-8 label.sk-toggleable__label-arrow:hover:before {color: black;}#sk-container-id-8 div.sk-estimator:hover label.sk-toggleable__label-arrow:before {color: black;}#sk-container-id-8 div.sk-toggleable__content {max-height: 0;max-width: 0;overflow: hidden;text-align: left;background-color: #f0f8ff;}#sk-container-id-8 div.sk-toggleable__content pre {margin: 0.2em;color: black;border-radius: 0.25em;background-color: #f0f8ff;}#sk-container-id-8 input.sk-toggleable__control:checked~div.sk-toggleable__content {max-height: 200px;max-width: 100%;overflow: auto;}#sk-container-id-8 input.sk-toggleable__control:checked~label.sk-toggleable__label-arrow:before {content: \"▾\";}#sk-container-id-8 div.sk-estimator input.sk-toggleable__control:checked~label.sk-toggleable__label {background-color: #d4ebff;}#sk-container-id-8 div.sk-label input.sk-toggleable__control:checked~label.sk-toggleable__label {background-color: #d4ebff;}#sk-container-id-8 input.sk-hidden--visually {border: 0;clip: rect(1px 1px 1px 1px);clip: rect(1px, 1px, 1px, 1px);height: 1px;margin: -1px;overflow: hidden;padding: 0;position: absolute;width: 1px;}#sk-container-id-8 div.sk-estimator {font-family: monospace;background-color: #f0f8ff;border: 1px dotted black;border-radius: 0.25em;box-sizing: border-box;margin-bottom: 0.5em;}#sk-container-id-8 div.sk-estimator:hover {background-color: #d4ebff;}#sk-container-id-8 div.sk-parallel-item::after {content: \"\";width: 100%;border-bottom: 1px solid gray;flex-grow: 1;}#sk-container-id-8 div.sk-label:hover label.sk-toggleable__label {background-color: #d4ebff;}#sk-container-id-8 div.sk-serial::before {content: \"\";position: absolute;border-left: 1px solid gray;box-sizing: border-box;top: 0;bottom: 0;left: 50%;z-index: 0;}#sk-container-id-8 div.sk-serial {display: flex;flex-direction: column;align-items: center;background-color: white;padding-right: 0.2em;padding-left: 0.2em;position: relative;}#sk-container-id-8 div.sk-item {position: relative;z-index: 1;}#sk-container-id-8 div.sk-parallel {display: flex;align-items: stretch;justify-content: center;background-color: white;position: relative;}#sk-container-id-8 div.sk-item::before, #sk-container-id-8 div.sk-parallel-item::before {content: \"\";position: absolute;border-left: 1px solid gray;box-sizing: border-box;top: 0;bottom: 0;left: 50%;z-index: -1;}#sk-container-id-8 div.sk-parallel-item {display: flex;flex-direction: column;z-index: 1;position: relative;background-color: white;}#sk-container-id-8 div.sk-parallel-item:first-child::after {align-self: flex-end;width: 50%;}#sk-container-id-8 div.sk-parallel-item:last-child::after {align-self: flex-start;width: 50%;}#sk-container-id-8 div.sk-parallel-item:only-child::after {width: 0;}#sk-container-id-8 div.sk-dashed-wrapped {border: 1px dashed gray;margin: 0 0.4em 0.5em 0.4em;box-sizing: border-box;padding-bottom: 0.4em;background-color: white;}#sk-container-id-8 div.sk-label label {font-family: monospace;font-weight: bold;display: inline-block;line-height: 1.2em;}#sk-container-id-8 div.sk-label-container {text-align: center;}#sk-container-id-8 div.sk-container {/* jupyter's `normalize.less` sets `[hidden] { display: none; }` but bootstrap.min.css set `[hidden] { display: none !important; }` so we also need the `!important` here to be able to override the default hidden behavior on the sphinx rendered scikit-learn.org. See: https://github.com/scikit-learn/scikit-learn/issues/21755 */display: inline-block !important;position: relative;}#sk-container-id-8 div.sk-text-repr-fallback {display: none;}</style><div id=\"sk-container-id-8\" class=\"sk-top-container\"><div class=\"sk-text-repr-fallback\"><pre>XGBClassifier(base_score=0.5, booster=&#x27;gbtree&#x27;, callbacks=None,\n",
       "              colsample_bylevel=1, colsample_bynode=1, colsample_bytree=1,\n",
       "              early_stopping_rounds=None, enable_categorical=False,\n",
       "              eval_metric=None, gamma=0, gpu_id=0, grow_policy=&#x27;depthwise&#x27;,\n",
       "              importance_type=None, interaction_constraints=&#x27;&#x27;,\n",
       "              learning_rate=0.300000012, max_bin=256, max_cat_to_onehot=4,\n",
       "              max_delta_step=0, max_depth=6, max_leaves=0, min_child_weight=1,\n",
       "              missing=nan, monotone_constraints=&#x27;()&#x27;, n_estimators=100,\n",
       "              n_jobs=0, num_parallel_tree=1, predictor=&#x27;auto&#x27;, random_state=0,\n",
       "              reg_alpha=0, reg_lambda=1, ...)</pre><b>In a Jupyter environment, please rerun this cell to show the HTML representation or trust the notebook. <br />On GitHub, the HTML representation is unable to render, please try loading this page with nbviewer.org.</b></div><div class=\"sk-container\" hidden><div class=\"sk-item\"><div class=\"sk-estimator sk-toggleable\"><input class=\"sk-toggleable__control sk-hidden--visually\" id=\"sk-estimator-id-8\" type=\"checkbox\" checked><label for=\"sk-estimator-id-8\" class=\"sk-toggleable__label sk-toggleable__label-arrow\">XGBClassifier</label><div class=\"sk-toggleable__content\"><pre>XGBClassifier(base_score=0.5, booster=&#x27;gbtree&#x27;, callbacks=None,\n",
       "              colsample_bylevel=1, colsample_bynode=1, colsample_bytree=1,\n",
       "              early_stopping_rounds=None, enable_categorical=False,\n",
       "              eval_metric=None, gamma=0, gpu_id=0, grow_policy=&#x27;depthwise&#x27;,\n",
       "              importance_type=None, interaction_constraints=&#x27;&#x27;,\n",
       "              learning_rate=0.300000012, max_bin=256, max_cat_to_onehot=4,\n",
       "              max_delta_step=0, max_depth=6, max_leaves=0, min_child_weight=1,\n",
       "              missing=nan, monotone_constraints=&#x27;()&#x27;, n_estimators=100,\n",
       "              n_jobs=0, num_parallel_tree=1, predictor=&#x27;auto&#x27;, random_state=0,\n",
       "              reg_alpha=0, reg_lambda=1, ...)</pre></div></div></div></div></div>"
      ],
      "text/plain": [
       "XGBClassifier(base_score=0.5, booster='gbtree', callbacks=None,\n",
       "              colsample_bylevel=1, colsample_bynode=1, colsample_bytree=1,\n",
       "              early_stopping_rounds=None, enable_categorical=False,\n",
       "              eval_metric=None, gamma=0, gpu_id=0, grow_policy='depthwise',\n",
       "              importance_type=None, interaction_constraints='',\n",
       "              learning_rate=0.300000012, max_bin=256, max_cat_to_onehot=4,\n",
       "              max_delta_step=0, max_depth=6, max_leaves=0, min_child_weight=1,\n",
       "              missing=nan, monotone_constraints='()', n_estimators=100,\n",
       "              n_jobs=0, num_parallel_tree=1, predictor='auto', random_state=0,\n",
       "              reg_alpha=0, reg_lambda=1, ...)"
      ]
     },
     "execution_count": 50,
     "metadata": {},
     "output_type": "execute_result"
    }
   ],
   "source": [
    "classifier = xgboost.XGBClassifier(tree_method='gpu_hist', gpu_id=0)\n",
    "train_model(classifier=classifier, X_data=np.array(X_data_vectors), y_data=y_data_n, X_test=np.array(X_test_vectors), y_test=y_test_n, is_neuralnet=False, n_epochs=20)"
   ]
  },
  {
   "cell_type": "code",
   "execution_count": null,
   "id": "8c00240c-fbb6-40b3-bb58-f07b3b9507b6",
   "metadata": {},
   "outputs": [],
   "source": []
  }
 ],
 "metadata": {
  "kernelspec": {
   "display_name": "trung",
   "language": "python",
   "name": "python3"
  },
  "language_info": {
   "codemirror_mode": {
    "name": "ipython",
    "version": 3
   },
   "file_extension": ".py",
   "mimetype": "text/x-python",
   "name": "python",
   "nbconvert_exporter": "python",
   "pygments_lexer": "ipython3",
   "version": "3.8.13"
  },
  "vscode": {
   "interpreter": {
    "hash": "b4e4b04c414ce0bb21072e60d78d772573374f97530d3fd7a829923ea46680ca"
   }
  }
 },
 "nbformat": 4,
 "nbformat_minor": 5
}
